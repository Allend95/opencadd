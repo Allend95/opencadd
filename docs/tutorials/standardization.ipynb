{
 "metadata": {
  "language_info": {
   "codemirror_mode": {
    "name": "ipython",
    "version": 3
   },
   "file_extension": ".py",
   "mimetype": "text/x-python",
   "name": "python",
   "nbconvert_exporter": "python",
   "pygments_lexer": "ipython3",
   "version": "3.8.6-final"
  },
  "orig_nbformat": 2,
  "kernelspec": {
   "name": "python3",
   "display_name": "Python 3",
   "language": "python"
  }
 },
 "nbformat": 4,
 "nbformat_minor": 2,
 "cells": [
  {
   "source": [
    "## Implementation of the main steps for chemical data curation following the paper \"Trust, But Verify: On the Importance of Chemical Structure Curation in Cheminformatics and QSAR Modeling Research\" from 2010 (D.Fourches, ...)\n",
    "\n",
    "Link: https://pubmed.ncbi.nlm.nih.gov/20572635/\n"
   ],
   "cell_type": "markdown",
   "metadata": {}
  },
  {
   "source": [
    "#import modules\n",
    "from rdkit import Chem\n",
    "from opencadd.compounds.standardization import convert_format,remove_fragments,disconnect_metals,detect_inorganic,remove_salts"
   ],
   "cell_type": "code",
   "metadata": {},
   "execution_count": null,
   "outputs": []
  },
  {
   "source": [
    "# INITIAL LIST OF SMILES\n",
    "# import test smiles dataset\n",
    "test_smiles = \"NC(CC(=O)O)C(=O)[O-].O.O.[Na+]\"\n",
    "test_smiles2 = \"C(C(=O)[O-])(Cc1n[n-]nn1)(C[NH3+])(C[N+](=O)[O-])\"\n",
    "test_smiles3= \"CN(C)C.Cl.Cl.Br\""
   ],
   "cell_type": "code",
   "metadata": {},
   "execution_count": 11,
   "outputs": []
  },
  {
   "source": [
    "### Removal of Inorganics and Mixtures\n",
    "\n",
    "Since molecular descriptors can only be computed for organic compunds, all inorganic compunds must be removed before the descriptors are calculated. (Chapter 2.1. Fourches 2010)\n",
    "\n",
    "For the flagging and following removal of compounds containing inorganic molecules, we can use the function `detect_inorganic`. This function returns a boolean value of \"True\" when it finds a inorganic molecule. We can run this flagging in a pre-processing step of the data, and discard those compounds. \n",
    "Inorganic compounds are known to have biological effects, like for example toxic effects. Due to their bioactivity we can not distinguish if the recored activity of a mixed compound is caused by it's organic or inorganic part. Therefore the entry is useless and can be discarded. ! THIS SHOULD BE LOGGED AND MANUAL CURATION SHOULD BE ENABLED !\n",
    "An alternate and easy way would be that every SMILES  is undertaken a substring search, where a match of a inorganic compound pattern (search pattern set should be defined) would be  flagged.\n",
    "\n",
    "Due to the fact, that the treatment is not as simple as it apprears the paper (Fourches, 2010) recommends to delete records containing mixtures. ! THIS AGAIN CAN BE LOGGED AND MANUAL CURATION CAN BE DONE WITH THIS SET ! The ease up the curation various filtering functions can be implemented to help decide which to keep and which to discard. Three types of mixtures are described. ! CHECK IF IMPLEMENTATION WOULD BE POSSIBLE EASY AND FAST ! Common and widely used practice is to retain molecules with the highest molecular weight or the largest number of atoms, but the paper (Fourches, 2010) states this might not be the best solution, and further investigation in mixtures should only be done if there is a reason to belive that the biological activity is really caused by the largest molecule and not the mixture itself."
   ],
   "cell_type": "markdown",
   "metadata": {}
  },
  {
   "source": [
    "# Removal of mixtures, inorganics (and eventually organometallics)\n",
    "# Functions detect_inorganic,remove_fragments, disconnect_metals, detect_inorganic again"
   ],
   "cell_type": "code",
   "metadata": {},
   "execution_count": 12,
   "outputs": []
  },
  {
   "cell_type": "code",
   "execution_count": null,
   "metadata": {},
   "outputs": [],
   "source": [
    "# Structural coversion\n",
    "# Cleaning/removal of salts\n",
    "# Functions remove_salts"
   ]
  },
  {
   "cell_type": "code",
   "execution_count": null,
   "metadata": {},
   "outputs": [],
   "source": [
    "# Normalization of specific chemotypes\n",
    "# normalize_molecules"
   ]
  },
  {
   "cell_type": "code",
   "execution_count": null,
   "metadata": {},
   "outputs": [],
   "source": [
    "# Treatment of tautomeric forms\n",
    "# handle_tautomers"
   ]
  },
  {
   "cell_type": "code",
   "execution_count": null,
   "metadata": {},
   "outputs": [],
   "source": [
    "# Analysis/removal of duplicates"
   ]
  },
  {
   "cell_type": "code",
   "execution_count": null,
   "metadata": {},
   "outputs": [],
   "source": [
    "# Manual inspection"
   ]
  }
 ]
}