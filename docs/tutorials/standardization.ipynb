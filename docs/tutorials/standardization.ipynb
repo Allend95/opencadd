{
 "cells": [
  {
   "cell_type": "code",
   "execution_count": null,
   "metadata": {},
   "outputs": [],
   "source": [
    "import os\n",
    "os.getcwd()\n",
    "os.chdir(\"/home/allen\")"
   ]
  },
  {
   "cell_type": "markdown",
   "metadata": {},
   "source": [
    "## Implementation of the main steps for chemical data curation following the paper \"Trust, But Verify: On the Importance of Chemical Structure Curation in Cheminformatics and QSAR Modeling Research\" from 2010 (D.Fourches, ...)\n",
    "\n",
    "Link: https://pubmed.ncbi.nlm.nih.gov/20572635/\n"
   ]
  },
  {
   "cell_type": "code",
   "execution_count": null,
   "metadata": {},
   "outputs": [],
   "source": [
    "#import modules\n",
    "from rdkit import Chem\n",
    "from opencadd.compounds.standardization import convert_format,remove_fragments,disconnect_metals,detect_inorganic,remove_salts"
   ]
  },
  {
   "cell_type": "code",
   "execution_count": null,
   "metadata": {},
   "outputs": [],
   "source": [
    "# INITIAL LIST OF SMILES\n",
    "# import test smiles dataset\n",
    "test_smiles = \"NC(CC(=O)O)C(=O)[O-].O.O.[Na+]\"\n",
    "test_smiles2 = \"C(C(=O)[O-])(Cc1n[n-]nn1)(C[NH3+])(C[N+](=O)[O-])\"\n",
    "test_smiles3= \"CN(C)C.Cl.Cl.Br\""
   ]
  },
  {
   "cell_type": "markdown",
   "metadata": {},
   "source": [
    "### Removal of Inorganics and Mixtures\n",
    "\n",
    "Since molecular descriptors can only be computed for organic compunds, all inorganic compunds must be removed before the descriptors are calculated. (Chapter 2.1. Fourches 2010)\n",
    "\n",
    "For the flagging and following removal of compounds containing inorganic molecules, we can use the function `detect_inorganic`. This function returns a boolean value of \"True\" when it finds a inorganic molecule. We can run this flagging in a pre-processing step of the data, and discard those compounds. \n",
    "\"Inorganic compounds are known to have biological effects, like for example toxic effects.\"(Chapter 2.1. Fourches 2010)(fix citation)\n",
    " Due to their potential bioactivity we can not distinguish if the recored activity of a mixed compound is caused by it's organic or inorganic part. Therefore the entry is useless and can be discarded. ! THIS SHOULD BE LOGGED AND MANUAL CURATION SHOULD BE ENABLED !\n",
    "An alternate and easy way would be that every SMILES  is undertaken a substring search, where a match of a inorganic compound pattern (search pattern set should be defined) would be  flagged.\n",
    "\n",
    "Due to the fact, that the treatment is not as simple as it apprears the paper (Fourches, 2010) recommends to delete records containing mixtures. ! THIS AGAIN CAN BE LOGGED AND MANUAL CURATION CAN BE DONE WITH THIS SET ! The ease up the curation various filtering functions can be implemented to help decide which to keep and which to discard. Three types of mixtures are described. ! CHECK IF IMPLEMENTATION WOULD BE POSSIBLE EASY AND FAST ! Common and widely used practice is to retain molecules with the highest molecular weight or the largest number of atoms(Chapter 2.1. Fourches 2010), but the paper (Fourches, 2010) states this might not be the best solution, and further investigation in mixtures should only be done if there is a reason to belive that the biological activity is really caused by the largest molecule and not the mixture itself.\n",
    "\n",
    "Those actions might be performed, before the entered SMILES are beeing converted into mol-files. Some described steps are related to string pattern searches."
   ]
  },
  {
   "cell_type": "code",
   "execution_count": null,
   "metadata": {},
   "outputs": [],
   "source": [
    "\n",
    "#  Removal of mixtures, inorganics (and eventually organometallics)\n",
    "# Functions detect_inorganic,remove_fragments, disconnect_metals, detect_inorganic again"
   ]
  },
  {
   "cell_type": "code",
   "execution_count": null,
   "metadata": {},
   "outputs": [],
   "source": [
    "# Pseudocode for filtering the inorganic records\n",
    "\n",
    "new_data = array of smiles\n",
    "records_organics = []\n",
    "records_inorganics = []\n",
    "\n",
    "for x in new_data:\n",
    "    convert_smiles_to_mol(x)\n",
    "    if detect_inorganic(x)==\"False\":\n",
    "        records_organics.append(x) #QUESTION: Can I just store mol-files in an array?\n",
    "    elif detect_inorganic(x)==\"True\":\n",
    "        records_inorganics.append(x)\n",
    "    else:\n",
    "        raise Exception(\"Something is wrong with:\" x)\n",
    "return records_organics, records_inorganics\n",
    "# no further processing will happen to `records_inorganics`\n",
    "# `records_organics` is passed on in the pipeline\n"
   ]
  },
  {
   "cell_type": "code",
   "execution_count": null,
   "metadata": {},
   "outputs": [],
   "source": [
    "# Pseudocode for filtering the mixture records\n",
    "\n",
    "new_data = records_organics\n",
    "no_fragement_records = []\n",
    "contains_fragment_records = []\n",
    "\n",
    "#TODO: Write a helper function that returns a boolean value, when it finds a fragment (the InChI is changed by a removed fragment), a metals (disconnect_metals has been performed)\n",
    "# Functions could be named `detect_fragment` and  `detect_metals`\n",
    "# Or I can write a function that just checks if the execution of a function actually altered the InChI --> might be the simpler solution\n",
    "for x in new_data:\n",
    "    convert_smiles_to_mol(x)\n",
    "    if detect_fragment(x)==\"False\":\n",
    "        no_fragement_record.append(x)\n",
    "    elif detect_fragment(x)==\"True\":\n",
    "        contains_fragment_records.append(x)\n",
    "    else:\n",
    "        raise Exception(\"Something is wrong with\" x)\n",
    "return no_fragement_record,contains_fragment_records\n",
    "\n",
    "# [OPTIONAL] return the largest fragment of the record\n",
    "new_data = contains_fragment_records\n",
    "contains_largest_fragement = []\n",
    "for x in new_data:\n",
    "    choose_largest_fragment(x)\n",
    "    contains_largest_fragement.append(x)\n",
    "return contains_largest_fragement\n",
    "\n",
    "# OR remove known common fragments with the function `remove_fragments`\n",
    "\n",
    "# Code would be the same as obove\n",
    "# Have to write a helper function to continue the pipeline with his set, without mixing it up with the \"safe_dataset\"\n",
    "\n",
    "\n",
    "\n",
    "\n"
   ]
  },
  {
   "cell_type": "code",
   "execution_count": null,
   "metadata": {},
   "outputs": [],
   "source": [
    "# Pseudocode for filtering metals \n",
    "new_data = no_fragement_record\n",
    "metal_true = []\n",
    "metal_false = []\n",
    "\n",
    "for x in new_data:\n",
    "    convert_smiles_to_mol(x)\n",
    "    if detect_metals(x)==\"False\":\n",
    "        metal_false.append(x)\n",
    "    elif detect_metals(x)==\"True\":\n",
    "        metal_true.append(x)\n",
    "    else:\n",
    "        raise Exception(\"Something is wrong with\" x)\n",
    "return metal_true,metal_false"
   ]
  },
  {
   "source": [
    "### Structural Conversion and Cleaning\n",
    "\n",
    "Some drugs need to be transformed \"into their salt form to enhance how the drug disscolves (...) and (to) increase it's effectiveness. (https://www.drugs.com/article/pharmaceutical-salts.html (03/12/21)) Therefore it is common for chemical compound databases to contain records of salts. If possible it is recommended to delete the records containing salts completely, since, similar to in-organic compounds, \"most descriptor-generating software (can not process salts)\" (Fourches 2010 Chapter 2.2 ).While not beeing desirable, it is still an acceptable procedure to convert compounds into their neutral forms. But cases like this should be tagged, filtered and afterwards manually curated or compared to the actual neutral form of that compound. \n",
    "In case that we want to continue working on the converted records, we should perform the following steps:\n",
    "- check if records contain compounds with presence of metals --> difficult case, filter out (already done this - one step ahead)\n",
    "- removing the salts from the record\n",
    "- neutralize the record (normalization or basic standardization)\n",
    "- neutralize the charges\n",
    "- to be discussed: the adding/removing of hydrogens, both got pros and cons (pro addingH --> higher prediction performances / con addingH --> may introduce noise --> less reliable models)(removingH might introduce erros in calculating descriptors, due to it might not handle certain cases well)\n",
    "\n"
   ],
   "cell_type": "markdown",
   "metadata": {}
  },
  {
   "cell_type": "code",
   "execution_count": null,
   "metadata": {},
   "outputs": [],
   "source": [
    "# Structural coversion\n",
    "# Cleaning/removal of salts\n",
    "# Functions remove_salts\n",
    "# normalize_molecules\n",
    "# handle_charges\n",
    "# handle_hydrogens"
   ]
  },
  {
   "source": [
    "### Normalization of Specific Chemotypes\n",
    "\n",
    "More complex than just Normalization."
   ],
   "cell_type": "markdown",
   "metadata": {}
  },
  {
   "cell_type": "code",
   "execution_count": null,
   "metadata": {},
   "outputs": [],
   "source": [
    "# Normalization of specific chemotypes\n",
    "# normalize_molecules"
   ]
  },
  {
   "cell_type": "code",
   "execution_count": null,
   "metadata": {},
   "outputs": [],
   "source": [
    "# Treatment of tautomeric forms\n",
    "# handle_tautomers"
   ]
  },
  {
   "source": [
    "### Removal of duplicates"
   ],
   "cell_type": "markdown",
   "metadata": {}
  },
  {
   "cell_type": "code",
   "execution_count": null,
   "metadata": {},
   "outputs": [],
   "source": [
    "# Analysis/removal of duplicates"
   ]
  },
  {
   "cell_type": "code",
   "execution_count": null,
   "metadata": {},
   "outputs": [],
   "source": [
    "# Manual inspection"
   ]
  }
 ],
 "metadata": {
  "kernelspec": {
   "display_name": "Python 3",
   "language": "python",
   "name": "python3"
  },
  "language_info": {
   "codemirror_mode": {
    "name": "ipython",
    "version": 3
   },
   "file_extension": ".py",
   "mimetype": "text/x-python",
   "name": "python",
   "nbconvert_exporter": "python",
   "pygments_lexer": "ipython3",
   "version": "3.8.6-final"
  }
 },
 "nbformat": 4,
 "nbformat_minor": 2
}