{
 "cells": [
  {
   "cell_type": "markdown",
   "metadata": {},
   "source": [
    "# Implementation and evaluation of a computational standardization pipeline for chemical compounds\n",
    "--------------------------------------------------------------\n",
    "\n",
    "> Based on [\"Trust, But Verify: On the Importance of Chemical Structure Curation in Cheminformatics and QSAR Modeling Research\" from 2010 (D. Fourches, ...)\"](https://pubmed.ncbi.nlm.nih.gov/20572635/)\n",
    "\n",
    "By Allen Dumler; reviewed by Jaime Rodríguez-Guerra, PhD."
   ]
  },
  {
   "cell_type": "markdown",
   "metadata": {},
   "source": [
    "### Introduction \n",
    "\n",
    "This notebook serves to display the functionality of the `opencadd.compounds.standardization` subpackage. \n",
    "\n",
    "We are following the recommended standardization steps of [\"Trust, But Verify\" (Fourches et al., 2010)](https://pubmed.ncbi.nlm.nih.gov/20572635/), and using a modified¹ version of the dataset from the following paper: [Cheminformatics Analysis of Assertions Mined from Literature That Describe Drug-Induced Liver Injury in Different Species](https://pubs.acs.org/doi/10.1021/tx900326k).\n",
    "\n",
    "¹ We added some entries to trigger curation steps not covered by the original data."
   ]
  },
  {
   "cell_type": "markdown",
   "metadata": {},
   "source": [
    "### Overview over the pipeline\n",
    "------------------------------------------\n",
    "\n",
    "This pipeline has **five** main steps:\n",
    "1. Structural Conversion\n",
    "2. Filtering of Inorganics and Mixtures\n",
    "3. Structural Cleaning \n",
    "4. Normalization of Specific Chemotypes\n",
    "5. Removal of Duplicates\n",
    "\n",
    "Each step consists of action performing tasks on the dataset. <br>\n",
    "Actions are:\n",
    "- filtering\n",
    "- cleaning\n",
    "- normalizing\n",
    "\n",
    "**Filtering** actions will result in a score applied to the entries. The score is the number of the filtering task. You can use it to select subsets of the dataset sorting by the column **Filtered_at**.\n",
    "\n",
    "**Cleaning** actions will result in a modification of the mol-representation of the entry, overwriting with the recent version calculated in the task. You can use it to select subsets of the dataset sorting by the column **Cleaned_at**.\n",
    "\n",
    "**Normalizing** actions also will result in a modification of the mol-representation of the entry.You can use it to select subsets of the dataset sorting by the column **Normalized_at**.\n",
    "\n",
    "At the end of the script, there is the possibility to export subsets of the dataset as a CSV. "
   ]
  },
  {
   "cell_type": "code",
   "execution_count": 1,
   "metadata": {},
   "outputs": [
    {
     "name": "stdout",
     "output_type": "stream",
     "text": [
      "Tutorial location: /home/allen/dev/opencadd/docs/tutorials\n",
      "Repo location:     /home/allen/dev/opencadd\n"
     ]
    }
   ],
   "source": [
    "from pathlib import Path\n",
    "\n",
    "HERE = Path(_dh[-1])\n",
    "REPO = HERE.parents[1]\n",
    "\n",
    "print(\"Tutorial location:\", HERE)\n",
    "print(\"Repo location:    \", REPO)"
   ]
  },
  {
   "cell_type": "code",
   "execution_count": 2,
   "metadata": {},
   "outputs": [],
   "source": [
    "# Import pandas and numpy\n",
    "import pandas as pd\n",
    "import numpy as np\n",
    "\n",
    "# Importing functions from the standardization API\n",
    "from opencadd.compounds.standardization import (\n",
    "    convert_format,\n",
    "    handle_fragments,\n",
    "    disconnect_metals,\n",
    "    detect_inorganics,\n",
    "    remove_salts,\n",
    "    normalize,\n",
    "    handle_tautomers,\n",
    "    validate_molecules,\n",
    "    detect_mixtures,\n",
    "    detect_metals,\n",
    "    detect_salts,\n",
    "    handle_charges,\n",
    ")"
   ]
  },
  {
   "cell_type": "markdown",
   "metadata": {},
   "source": [
    "### Initial dataset import and cleaning of empty entries\n",
    "------------------------------------------------\n",
    "Before any curation steps are can be applied, we need to import the dataset as a Pandas Dataframe. <br>\n",
    "At this point you have the possibility to select the columns you need for the curation process. For our example dataset we will use columns <b>IDs</b>, <b>Names</b> and <b>SMILEs</b>.<br>\n",
    "After that, we search for all entries which have empty strings saved under <b>SMILEs</b> and remove them from the dataset.<br>\n",
    "After the import, we add a <b>Filtered_at</b> column to track which standardization step filtered the entry. \n",
    "The initial `task_number` will be 0, which leads to a default <b>Filtered_at</b>-value of 0 for all entries, where null stands for all the entries that passed without any filtering. "
   ]
  },
  {
   "cell_type": "code",
   "execution_count": 3,
   "metadata": {},
   "outputs": [],
   "source": [
    "task_number = 0\n",
    "\n",
    "# Import test-dataset\n",
    "dataset = pd.read_csv(HERE / \"data\" / \"standardization_test_data.csv\")\n",
    "\n",
    "# Filter columns\n",
    "dataset = dataset[[\"IDs\", \"Names\", \"SMILEs\"]]\n",
    "\n",
    "# Delete empty entries from the main set.\n",
    "dataset = dataset[(dataset[\"SMILEs\"].notna())]\n",
    "\n",
    "# Initializing the score to null at the 'Filtered_at'-column\n",
    "dataset[\"Filtered_at\"] = dataset[\"SMILEs\"].apply(\n",
    "    lambda x, task_number=task_number: task_number\n",
    ")\n",
    "\n",
    "# Reset the index to correct the deletion of the empty entries\n",
    "dataset = dataset.reset_index(drop=True)\n",
    "\n",
    "# [Optional] Display empty entries for manual inspection.\n",
    "# dataset[(dataset[\"SMILEs\"].isnull())]"
   ]
  },
  {
   "cell_type": "markdown",
   "metadata": {},
   "source": [
    "### Step 1: Structural Converison\n",
    "------------------------------------------\n",
    "\n",
    "__Convert the SMILES representation format of the compounds into Mol-files__\n",
    "\n",
    "RDKit performs a sanitization of molecules converted to mol by default. <br>\n",
    "In addition to some Nitro and Perchlorate transformations the following steps are taken²:\n",
    "\n",
    "\n",
    "- Calculate explicit and implicit valence of all atoms. Fails when atoms have illegal valence.\n",
    "- Calculate symmetrized SSSR. The slowest step fails in rare cases.\n",
    "- Kekulize. Fails if a Kekule form cannot be found or non-ring bonds are marked as aromatic.\n",
    "- Assign radicals if hydrogens set and bonds+hydrogens+charge < valence.\n",
    "- Set aromaticity, if none set in input. Go round rings, Huckel rule to set atoms+bonds as aromatic.\n",
    "- Set a conjugated property on bonds where applicable.\n",
    "- Set hybridization property on atoms.\n",
    "- Remove chirality markers from sp and sp2 hybridized centers.\n",
    "\n",
    "If the conversion from SMILE to mol fails, then those SMILEs will get a **Filtered_at** marker added. \n",
    "\n",
    "To avoid molecule sanitization `convert_smiles_to_mol` can be called with the argument `sanitize=False`. Keep in mind that the generation of different Lewis structures serves to find alternative representation formats of the same molecule. \n",
    "\n",
    "References:\n",
    "\n",
    "² https://molvs.readthedocs.io/en/latest/guide/standardize.html?highlight=sanitize#rdkit-sanitize\n",
    "* https://chemistry.stackexchange.com/questions/116498/what-is-kekulization-in-rdkit\n",
    "* https://rdkit-discuss.narkive.com/QwnqcKcM/another-can-t-kekulize-mol-observation\n",
    "* https://www.rdkit.org/docs/Cookbook.html\n",
    "* https://www.rdkit.org/docs/source/rdkit.Chem.rdmolfiles.html"
   ]
  },
  {
   "cell_type": "markdown",
   "metadata": {},
   "source": [
    "#### Task 1: Convert to Mol"
   ]
  },
  {
   "cell_type": "code",
   "execution_count": 4,
   "metadata": {},
   "outputs": [
    {
     "name": "stderr",
     "output_type": "stream",
     "text": [
      "RDKit ERROR: [01:10:41] Can't kekulize mol.  Unkekulized atoms: 1 2 3 4 5 7 9\n",
      "RDKit ERROR: \n",
      "RDKit ERROR: [01:10:41] Can't kekulize mol.  Unkekulized atoms: 2 3 4 6 7 8 10 11 12\n",
      "RDKit ERROR: \n",
      "RDKit ERROR: [01:10:41] Can't kekulize mol.  Unkekulized atoms: 6 8 10\n",
      "RDKit ERROR: \n",
      "RDKit ERROR: [01:10:41] Can't kekulize mol.  Unkekulized atoms: 7 8 9 10 11 12 13 14 15\n",
      "RDKit ERROR: \n",
      "RDKit ERROR: [01:10:41] Can't kekulize mol.  Unkekulized atoms: 57 58 60\n",
      "RDKit ERROR: \n",
      "RDKit ERROR: [01:10:41] Can't kekulize mol.  Unkekulized atoms: 14 15 16 17 18 19 20 21 23\n",
      "RDKit ERROR: \n",
      "RDKit ERROR: [01:10:41] Can't kekulize mol.  Unkekulized atoms: 11 12 13 15 16 17 19 20 21\n",
      "RDKit ERROR: \n"
     ]
    },
    {
     "data": {
      "text/html": [
       "<div>\n",
       "<style scoped>\n",
       "    .dataframe tbody tr th:only-of-type {\n",
       "        vertical-align: middle;\n",
       "    }\n",
       "\n",
       "    .dataframe tbody tr th {\n",
       "        vertical-align: top;\n",
       "    }\n",
       "\n",
       "    .dataframe thead th {\n",
       "        text-align: right;\n",
       "    }\n",
       "</style>\n",
       "<table border=\"1\" class=\"dataframe\">\n",
       "  <thead>\n",
       "    <tr style=\"text-align: right;\">\n",
       "      <th></th>\n",
       "      <th>IDs</th>\n",
       "      <th>Names</th>\n",
       "      <th>SMILEs</th>\n",
       "      <th>Filtered_at</th>\n",
       "      <th>mol</th>\n",
       "    </tr>\n",
       "  </thead>\n",
       "  <tbody>\n",
       "    <tr>\n",
       "      <th>0</th>\n",
       "      <td>1</td>\n",
       "      <td>(R)-Roscovitine</td>\n",
       "      <td>CCC(CO)Nc1nc(NCc2ccccc2)c2ncn(C(C)C)c2n1.[Ca]</td>\n",
       "      <td>0</td>\n",
       "      <td>&lt;rdkit.Chem.rdchem.Mol object at 0x7f8df7280490&gt;</td>\n",
       "    </tr>\n",
       "    <tr>\n",
       "      <th>1</th>\n",
       "      <td>2</td>\n",
       "      <td>17-Methyltestosterone</td>\n",
       "      <td>CC1(O)CCC2C3CCC4=CC(=O)CCC4(C)C3CCC12C</td>\n",
       "      <td>0</td>\n",
       "      <td>&lt;rdkit.Chem.rdchem.Mol object at 0x7f8df727bf80&gt;</td>\n",
       "    </tr>\n",
       "    <tr>\n",
       "      <th>2</th>\n",
       "      <td>3</td>\n",
       "      <td>1-alpha-Hydroxycholecalciferol</td>\n",
       "      <td>CC(C)CCCC(C)C1CCC2C(CCCC12C)=CC=C1CC(O)CC(O)C1=C</td>\n",
       "      <td>0</td>\n",
       "      <td>&lt;rdkit.Chem.rdchem.Mol object at 0x7f8df727ba80&gt;</td>\n",
       "    </tr>\n",
       "    <tr>\n",
       "      <th>3</th>\n",
       "      <td>4</td>\n",
       "      <td>2,3-Dimercaptosuccinic acid</td>\n",
       "      <td>OC(=O)C(S)C(S)C(O)=O</td>\n",
       "      <td>0</td>\n",
       "      <td>&lt;rdkit.Chem.rdchem.Mol object at 0x7f8df727bee0&gt;</td>\n",
       "    </tr>\n",
       "    <tr>\n",
       "      <th>4</th>\n",
       "      <td>5</td>\n",
       "      <td>2,4,6-Trinitrotoluene</td>\n",
       "      <td>Cc1c(cc(cc1N(=O)=O)N(=O)=O)N(=O)=O</td>\n",
       "      <td>0</td>\n",
       "      <td>&lt;rdkit.Chem.rdchem.Mol object at 0x7f8df727bb70&gt;</td>\n",
       "    </tr>\n",
       "    <tr>\n",
       "      <th>5</th>\n",
       "      <td>6</td>\n",
       "      <td>2-Deoxy-D-glucose</td>\n",
       "      <td>OCC1OC(O)CC(O)C1O.O1CCOCC1</td>\n",
       "      <td>0</td>\n",
       "      <td>&lt;rdkit.Chem.rdchem.Mol object at 0x7f8df722bda0&gt;</td>\n",
       "    </tr>\n",
       "    <tr>\n",
       "      <th>6</th>\n",
       "      <td>7</td>\n",
       "      <td>2'-fluoro-5-methylarabinosyluracil</td>\n",
       "      <td>CC1=CN(C2OC(CO)C(O)C2F)C(=O)NC1=O</td>\n",
       "      <td>0</td>\n",
       "      <td>&lt;rdkit.Chem.rdchem.Mol object at 0x7f8df722bc60&gt;</td>\n",
       "    </tr>\n",
       "    <tr>\n",
       "      <th>7</th>\n",
       "      <td>8</td>\n",
       "      <td>2-Methoxyestradiol</td>\n",
       "      <td>COc1cc2C3CCC4(C)C(O)CCC4C3CCc2cc1O</td>\n",
       "      <td>0</td>\n",
       "      <td>&lt;rdkit.Chem.rdchem.Mol object at 0x7f8df722bcb0&gt;</td>\n",
       "    </tr>\n",
       "    <tr>\n",
       "      <th>8</th>\n",
       "      <td>9</td>\n",
       "      <td>4-aminobenzoic acid</td>\n",
       "      <td>Nc1ccc(cc1)C(O)=O</td>\n",
       "      <td>0</td>\n",
       "      <td>&lt;rdkit.Chem.rdchem.Mol object at 0x7f8df722bd50&gt;</td>\n",
       "    </tr>\n",
       "    <tr>\n",
       "      <th>9</th>\n",
       "      <td>10</td>\n",
       "      <td>4-Hydroxytamoxifen</td>\n",
       "      <td>CCC(c1ccccc1)=C(c1ccc(O)cc1)c1ccc(OCCN(C)C)cc1</td>\n",
       "      <td>0</td>\n",
       "      <td>&lt;rdkit.Chem.rdchem.Mol object at 0x7f8df722bd00&gt;</td>\n",
       "    </tr>\n",
       "    <tr>\n",
       "      <th>10</th>\n",
       "      <td>11</td>\n",
       "      <td>5 fluorouracil</td>\n",
       "      <td>FC1=CNC(=O)NC1=O</td>\n",
       "      <td>0</td>\n",
       "      <td>&lt;rdkit.Chem.rdchem.Mol object at 0x7f8df722b990&gt;</td>\n",
       "    </tr>\n",
       "    <tr>\n",
       "      <th>11</th>\n",
       "      <td>12</td>\n",
       "      <td>5-Azacitidine</td>\n",
       "      <td>NC1=NC(=O)N(C=N1)C1OC(CO)C(O)C1O</td>\n",
       "      <td>0</td>\n",
       "      <td>&lt;rdkit.Chem.rdchem.Mol object at 0x7f8df722b940&gt;</td>\n",
       "    </tr>\n",
       "    <tr>\n",
       "      <th>12</th>\n",
       "      <td>13</td>\n",
       "      <td>5-Bromouracil</td>\n",
       "      <td>OCC1OC(CC1O)N1C=C(Br)C(=O)NC1=O</td>\n",
       "      <td>0</td>\n",
       "      <td>&lt;rdkit.Chem.rdchem.Mol object at 0x7f8df722b440&gt;</td>\n",
       "    </tr>\n",
       "    <tr>\n",
       "      <th>13</th>\n",
       "      <td>14</td>\n",
       "      <td>5-fluoro-2'-deoxyuridine</td>\n",
       "      <td>OCC1OC(CC1O)N1C=C(F)C(=O)NC1=O</td>\n",
       "      <td>0</td>\n",
       "      <td>&lt;rdkit.Chem.rdchem.Mol object at 0x7f8df722b580&gt;</td>\n",
       "    </tr>\n",
       "    <tr>\n",
       "      <th>14</th>\n",
       "      <td>15</td>\n",
       "      <td>6-Mercaptopurine</td>\n",
       "      <td>Sc1ncnc2[nH]c[nH]c12</td>\n",
       "      <td>1</td>\n",
       "      <td>None</td>\n",
       "    </tr>\n",
       "    <tr>\n",
       "      <th>15</th>\n",
       "      <td>16</td>\n",
       "      <td>Acadesine</td>\n",
       "      <td>NC(=O)c1ncn(C2OC(CO)C(O)C2O)c1N</td>\n",
       "      <td>0</td>\n",
       "      <td>&lt;rdkit.Chem.rdchem.Mol object at 0x7f8df722b8f0&gt;</td>\n",
       "    </tr>\n",
       "  </tbody>\n",
       "</table>\n",
       "</div>"
      ],
      "text/plain": [
       "    IDs                               Names  \\\n",
       "0     1                     (R)-Roscovitine   \n",
       "1     2               17-Methyltestosterone   \n",
       "2     3      1-alpha-Hydroxycholecalciferol   \n",
       "3     4         2,3-Dimercaptosuccinic acid   \n",
       "4     5               2,4,6-Trinitrotoluene   \n",
       "5     6                   2-Deoxy-D-glucose   \n",
       "6     7  2'-fluoro-5-methylarabinosyluracil   \n",
       "7     8                  2-Methoxyestradiol   \n",
       "8     9                 4-aminobenzoic acid   \n",
       "9    10                  4-Hydroxytamoxifen   \n",
       "10   11                      5 fluorouracil   \n",
       "11   12                       5-Azacitidine   \n",
       "12   13                       5-Bromouracil   \n",
       "13   14            5-fluoro-2'-deoxyuridine   \n",
       "14   15                    6-Mercaptopurine   \n",
       "15   16                           Acadesine   \n",
       "\n",
       "                                              SMILEs  Filtered_at  \\\n",
       "0      CCC(CO)Nc1nc(NCc2ccccc2)c2ncn(C(C)C)c2n1.[Ca]            0   \n",
       "1             CC1(O)CCC2C3CCC4=CC(=O)CCC4(C)C3CCC12C            0   \n",
       "2   CC(C)CCCC(C)C1CCC2C(CCCC12C)=CC=C1CC(O)CC(O)C1=C            0   \n",
       "3                               OC(=O)C(S)C(S)C(O)=O            0   \n",
       "4                 Cc1c(cc(cc1N(=O)=O)N(=O)=O)N(=O)=O            0   \n",
       "5                         OCC1OC(O)CC(O)C1O.O1CCOCC1            0   \n",
       "6                  CC1=CN(C2OC(CO)C(O)C2F)C(=O)NC1=O            0   \n",
       "7                 COc1cc2C3CCC4(C)C(O)CCC4C3CCc2cc1O            0   \n",
       "8                                  Nc1ccc(cc1)C(O)=O            0   \n",
       "9     CCC(c1ccccc1)=C(c1ccc(O)cc1)c1ccc(OCCN(C)C)cc1            0   \n",
       "10                                  FC1=CNC(=O)NC1=O            0   \n",
       "11                  NC1=NC(=O)N(C=N1)C1OC(CO)C(O)C1O            0   \n",
       "12                   OCC1OC(CC1O)N1C=C(Br)C(=O)NC1=O            0   \n",
       "13                    OCC1OC(CC1O)N1C=C(F)C(=O)NC1=O            0   \n",
       "14                              Sc1ncnc2[nH]c[nH]c12            1   \n",
       "15                   NC(=O)c1ncn(C2OC(CO)C(O)C2O)c1N            0   \n",
       "\n",
       "                                                 mol  \n",
       "0   <rdkit.Chem.rdchem.Mol object at 0x7f8df7280490>  \n",
       "1   <rdkit.Chem.rdchem.Mol object at 0x7f8df727bf80>  \n",
       "2   <rdkit.Chem.rdchem.Mol object at 0x7f8df727ba80>  \n",
       "3   <rdkit.Chem.rdchem.Mol object at 0x7f8df727bee0>  \n",
       "4   <rdkit.Chem.rdchem.Mol object at 0x7f8df727bb70>  \n",
       "5   <rdkit.Chem.rdchem.Mol object at 0x7f8df722bda0>  \n",
       "6   <rdkit.Chem.rdchem.Mol object at 0x7f8df722bc60>  \n",
       "7   <rdkit.Chem.rdchem.Mol object at 0x7f8df722bcb0>  \n",
       "8   <rdkit.Chem.rdchem.Mol object at 0x7f8df722bd50>  \n",
       "9   <rdkit.Chem.rdchem.Mol object at 0x7f8df722bd00>  \n",
       "10  <rdkit.Chem.rdchem.Mol object at 0x7f8df722b990>  \n",
       "11  <rdkit.Chem.rdchem.Mol object at 0x7f8df722b940>  \n",
       "12  <rdkit.Chem.rdchem.Mol object at 0x7f8df722b440>  \n",
       "13  <rdkit.Chem.rdchem.Mol object at 0x7f8df722b580>  \n",
       "14                                              None  \n",
       "15  <rdkit.Chem.rdchem.Mol object at 0x7f8df722b8f0>  "
      ]
     },
     "execution_count": 4,
     "metadata": {},
     "output_type": "execute_result"
    }
   ],
   "source": [
    "# Setting up the task_number\n",
    "task_number = 1\n",
    "\n",
    "# A column called mol is beeing added to the dataframe to store the mol-files\n",
    "dataset[\"mol\"] = dataset.loc[:, (\"SMILEs\")].apply(convert_format.convert_smiles_to_mol)\n",
    "\n",
    "# Add task_number to failed entries\n",
    "dataset.loc[dataset[\"mol\"].isnull(), [\"Filtered_at\"]] = task_number\n",
    "\n",
    "dataset.head(16)"
   ]
  },
  {
   "cell_type": "markdown",
   "metadata": {},
   "source": [
    "### Step 2: Filtering of Inorganics and Mixtures\n",
    "--------------------------------------------------\n",
    "\n",
    "Since most cheminformatics applications are not capable of processing inorganic structures,  there is a need to remove those entries before any processing.<br>\n",
    "Detecting inorganic structures is divided into two steps:<br>\n",
    "First removing all entries not containing any Carbon at all, which are therefore not organic.<br>\n",
    "Secondly, filtering out all compounds with inorganic substructures. <br>\n",
    "\n",
    "Similar problems occur for mixtures. Since most applications can not calculate descriptors for mixtures, filtering has to happen before processing. <br>\n",
    "Additionally, since \"*inorganic compounds are known to have biological effects, like toxic effects*\" (Fourches 2010), we can often not distinguish if its organic or inorganic part causes the recorded activity of a mixed compound. Therefore the entry is useless and can be discarded. \n",
    "\n",
    "\n",
    "Since the treatment is not as simple as it appears, the paper recommends deleting records containing mixtures.\n",
    "Common and widely used practice is to retain molecules with the highest molecular weight or the largest number of atoms. Still, the paper states this might not be the best solution, and investigation in mixtures should only happen if there is a reason to believe the largest molecule and not the mixture itself is causing the biological activity."
   ]
  },
  {
   "cell_type": "markdown",
   "metadata": {},
   "source": [
    "#### Task 2: Filter entries without Carbon\n",
    "\n",
    "The first task to determine if an entry is an organic molecule is to check for the presence of Carbon. `detect_carbon` is a function able to do this. It searches for the existence of carbon atoms. If the function finds at least one Carbon atom, it returns a boolean value of **True**, if not **False**. All entries that return **False** will get the current task number (2) assigned into the *Filtered_at* column.\n"
   ]
  },
  {
   "cell_type": "code",
   "execution_count": 5,
   "metadata": {},
   "outputs": [],
   "source": [
    "# Setting up the task_number\n",
    "task_number = 2\n",
    "\n",
    "# Check for Carbon\n",
    "dataset[\"Carbon_present\"] = dataset.apply(\n",
    "    lambda row: detect_inorganics.detect_carbon(row.mol)\n",
    "    if row.Filtered_at == 0\n",
    "    else None,\n",
    "    axis=1,\n",
    ")\n",
    "\n",
    "# Add task_number to failed entries\n",
    "dataset.loc[dataset[\"Carbon_present\"] == False, [\"Filtered_at\"]] = task_number"
   ]
  },
  {
   "cell_type": "markdown",
   "metadata": {},
   "source": [
    "Below you can see all entries that do not contain any Carbon and thereby are inorganic molecules."
   ]
  },
  {
   "cell_type": "code",
   "execution_count": 6,
   "metadata": {},
   "outputs": [
    {
     "data": {
      "text/html": [
       "<div>\n",
       "<style scoped>\n",
       "    .dataframe tbody tr th:only-of-type {\n",
       "        vertical-align: middle;\n",
       "    }\n",
       "\n",
       "    .dataframe tbody tr th {\n",
       "        vertical-align: top;\n",
       "    }\n",
       "\n",
       "    .dataframe thead th {\n",
       "        text-align: right;\n",
       "    }\n",
       "</style>\n",
       "<table border=\"1\" class=\"dataframe\">\n",
       "  <thead>\n",
       "    <tr style=\"text-align: right;\">\n",
       "      <th></th>\n",
       "      <th>IDs</th>\n",
       "      <th>Names</th>\n",
       "      <th>SMILEs</th>\n",
       "      <th>Filtered_at</th>\n",
       "      <th>mol</th>\n",
       "      <th>Carbon_present</th>\n",
       "    </tr>\n",
       "  </thead>\n",
       "  <tbody>\n",
       "    <tr>\n",
       "      <th>202</th>\n",
       "      <td>203</td>\n",
       "      <td>test_salt</td>\n",
       "      <td>[Al].N.[Ba].[Bi].Br.[Ca].Cl.F.I.[K].[Li].[Mg]....</td>\n",
       "      <td>2</td>\n",
       "      <td>&lt;rdkit.Chem.rdchem.Mol object at 0x7f8df7248850&gt;</td>\n",
       "      <td>False</td>\n",
       "    </tr>\n",
       "    <tr>\n",
       "      <th>203</th>\n",
       "      <td>204</td>\n",
       "      <td>test_duplicate</td>\n",
       "      <td>[Al].N.[Ba].[Bi].Br.[Ca].Cl.F.I.[K].[Li].[Mg]....</td>\n",
       "      <td>2</td>\n",
       "      <td>&lt;rdkit.Chem.rdchem.Mol object at 0x7f8df72488a0&gt;</td>\n",
       "      <td>False</td>\n",
       "    </tr>\n",
       "  </tbody>\n",
       "</table>\n",
       "</div>"
      ],
      "text/plain": [
       "     IDs           Names                                             SMILEs  \\\n",
       "202  203       test_salt  [Al].N.[Ba].[Bi].Br.[Ca].Cl.F.I.[K].[Li].[Mg]....   \n",
       "203  204  test_duplicate  [Al].N.[Ba].[Bi].Br.[Ca].Cl.F.I.[K].[Li].[Mg]....   \n",
       "\n",
       "     Filtered_at                                               mol  \\\n",
       "202            2  <rdkit.Chem.rdchem.Mol object at 0x7f8df7248850>   \n",
       "203            2  <rdkit.Chem.rdchem.Mol object at 0x7f8df72488a0>   \n",
       "\n",
       "    Carbon_present  \n",
       "202          False  \n",
       "203          False  "
      ]
     },
     "execution_count": 6,
     "metadata": {},
     "output_type": "execute_result"
    }
   ],
   "source": [
    "dataset[dataset[\"Filtered_at\"] == 2]"
   ]
  },
  {
   "cell_type": "markdown",
   "metadata": {},
   "source": [
    "#### Task 3: Filter entries with inorganic components\n",
    "\n",
    "While we filtered out all molecules not containing any Carbon, now we further inspect the entries for elements that do not occur in organic molecules. The elements that might fall into here might vary slightly depending on the definition and scope. `detect_inorganic` is a suitable function for this task.\n",
    "A recommendation is to check which elements can be managed by the software later used. Customization of the allowed elements in `detect_inorganic` can easily be provided by a set of SMARTS, as described shortly below. \n",
    "The default set of accepted elements in an organic molecule are Hydrogen, Carbon, Nitrogen, Oxygen, Fluorine, Phosphorus, Sulfur, Chlorine, Selenium, Bromine, Iodine (nonmetals and halogens). <br>\n",
    "*While Astatine and Tennessine are also considered halogens, they are not included due to their radioactivity and rarity.*\n",
    "<br>\n",
    "\n",
    "\n",
    "###### An example of how to set up a custom set of elements and implement them in `detect_inorganic` \n",
    "-----------------------------------------------------------------------------------------------------------\n",
    "Defining a set:<br>\n",
    "`elements = Chem.MolFromSmarts(\"[!#1&!#6&!#7&!#8&!#9&!#15&!#16&!#17&!#35&!#53]\")` <br>\n",
    "(If you want to run this, import the following before: from rdkit import Chem)\n",
    "\n",
    "Pass the set as a parameter, where the `detect_inorganic` function is getting called:<br>\n",
    "`lambda row: detect_inorganics.detect_inorganic(row.mol, elements)`"
   ]
  },
  {
   "cell_type": "code",
   "execution_count": 7,
   "metadata": {},
   "outputs": [],
   "source": [
    "# Setting up the task_number\n",
    "task_number = 3\n",
    "\n",
    "\n",
    "# Check for inorganic structures\n",
    "dataset[\"Inorganics\"] = dataset.apply(\n",
    "    lambda row: detect_inorganics.detect_inorganic(row.mol)\n",
    "    if row.Filtered_at == 0\n",
    "    else None,\n",
    "    axis=1,\n",
    ")\n",
    "\n",
    "# Add task_number to failed entries\n",
    "dataset.loc[dataset[\"Inorganics\"] == True, [\"Filtered_at\"]] = task_number"
   ]
  },
  {
   "cell_type": "markdown",
   "metadata": {},
   "source": [
    "Below you can see all entries that contain other than our allowed elements. (Hydrogen, Carbon, Nitrogen, Oxygen, Fluorine, Phosphorus, Sulfur, Chlorine, Selenium, Bromine, Iodine)"
   ]
  },
  {
   "cell_type": "code",
   "execution_count": 8,
   "metadata": {},
   "outputs": [
    {
     "data": {
      "text/html": [
       "<div>\n",
       "<style scoped>\n",
       "    .dataframe tbody tr th:only-of-type {\n",
       "        vertical-align: middle;\n",
       "    }\n",
       "\n",
       "    .dataframe tbody tr th {\n",
       "        vertical-align: top;\n",
       "    }\n",
       "\n",
       "    .dataframe thead th {\n",
       "        text-align: right;\n",
       "    }\n",
       "</style>\n",
       "<table border=\"1\" class=\"dataframe\">\n",
       "  <thead>\n",
       "    <tr style=\"text-align: right;\">\n",
       "      <th></th>\n",
       "      <th>IDs</th>\n",
       "      <th>Names</th>\n",
       "      <th>SMILEs</th>\n",
       "      <th>Filtered_at</th>\n",
       "      <th>mol</th>\n",
       "      <th>Carbon_present</th>\n",
       "      <th>Inorganics</th>\n",
       "    </tr>\n",
       "  </thead>\n",
       "  <tbody>\n",
       "    <tr>\n",
       "      <th>0</th>\n",
       "      <td>1</td>\n",
       "      <td>(R)-Roscovitine</td>\n",
       "      <td>CCC(CO)Nc1nc(NCc2ccccc2)c2ncn(C(C)C)c2n1.[Ca]</td>\n",
       "      <td>3</td>\n",
       "      <td>&lt;rdkit.Chem.rdchem.Mol object at 0x7f8df7280490&gt;</td>\n",
       "      <td>True</td>\n",
       "      <td>True</td>\n",
       "    </tr>\n",
       "    <tr>\n",
       "      <th>114</th>\n",
       "      <td>115</td>\n",
       "      <td>Bortezomib</td>\n",
       "      <td>CC(C)CC(NC(=O)C(Cc1ccccc1)NC(=O)c1cnccn1)B(O)O</td>\n",
       "      <td>3</td>\n",
       "      <td>&lt;rdkit.Chem.rdchem.Mol object at 0x7f8df7245d00&gt;</td>\n",
       "      <td>True</td>\n",
       "      <td>True</td>\n",
       "    </tr>\n",
       "    <tr>\n",
       "      <th>200</th>\n",
       "      <td>201</td>\n",
       "      <td>zirconium</td>\n",
       "      <td>CCO[Zr](OCC)(OCC)OCC</td>\n",
       "      <td>3</td>\n",
       "      <td>&lt;rdkit.Chem.rdchem.Mol object at 0x7f8df72487b0&gt;</td>\n",
       "      <td>True</td>\n",
       "      <td>True</td>\n",
       "    </tr>\n",
       "    <tr>\n",
       "      <th>201</th>\n",
       "      <td>202</td>\n",
       "      <td>hemoglobin</td>\n",
       "      <td>CC1=C(C2=CC3=NC(=CC4=C(C(=C([N-]4)C=C5C(=C(C(=...</td>\n",
       "      <td>3</td>\n",
       "      <td>&lt;rdkit.Chem.rdchem.Mol object at 0x7f8df7248800&gt;</td>\n",
       "      <td>True</td>\n",
       "      <td>True</td>\n",
       "    </tr>\n",
       "    <tr>\n",
       "      <th>204</th>\n",
       "      <td>206</td>\n",
       "      <td>covalent_metal</td>\n",
       "      <td>CCC(=O)O[Na]</td>\n",
       "      <td>3</td>\n",
       "      <td>&lt;rdkit.Chem.rdchem.Mol object at 0x7f8df72488f0&gt;</td>\n",
       "      <td>True</td>\n",
       "      <td>True</td>\n",
       "    </tr>\n",
       "  </tbody>\n",
       "</table>\n",
       "</div>"
      ],
      "text/plain": [
       "     IDs            Names                                             SMILEs  \\\n",
       "0      1  (R)-Roscovitine      CCC(CO)Nc1nc(NCc2ccccc2)c2ncn(C(C)C)c2n1.[Ca]   \n",
       "114  115       Bortezomib     CC(C)CC(NC(=O)C(Cc1ccccc1)NC(=O)c1cnccn1)B(O)O   \n",
       "200  201        zirconium                               CCO[Zr](OCC)(OCC)OCC   \n",
       "201  202       hemoglobin  CC1=C(C2=CC3=NC(=CC4=C(C(=C([N-]4)C=C5C(=C(C(=...   \n",
       "204  206   covalent_metal                                       CCC(=O)O[Na]   \n",
       "\n",
       "     Filtered_at                                               mol  \\\n",
       "0              3  <rdkit.Chem.rdchem.Mol object at 0x7f8df7280490>   \n",
       "114            3  <rdkit.Chem.rdchem.Mol object at 0x7f8df7245d00>   \n",
       "200            3  <rdkit.Chem.rdchem.Mol object at 0x7f8df72487b0>   \n",
       "201            3  <rdkit.Chem.rdchem.Mol object at 0x7f8df7248800>   \n",
       "204            3  <rdkit.Chem.rdchem.Mol object at 0x7f8df72488f0>   \n",
       "\n",
       "    Carbon_present Inorganics  \n",
       "0             True       True  \n",
       "114           True       True  \n",
       "200           True       True  \n",
       "201           True       True  \n",
       "204           True       True  "
      ]
     },
     "execution_count": 8,
     "metadata": {},
     "output_type": "execute_result"
    }
   ],
   "source": [
    "dataset[dataset[\"Filtered_at\"] == 3]"
   ]
  },
  {
   "cell_type": "markdown",
   "metadata": {},
   "source": [
    "#### Task 4: Filter entries containing mixtures\n",
    "\n",
    "We will use the function `detect_mixtures` as shown below for the filtering of mixtures."
   ]
  },
  {
   "cell_type": "code",
   "execution_count": 9,
   "metadata": {},
   "outputs": [],
   "source": [
    "# Setting up the task_number\n",
    "task_number = 4\n",
    "\n",
    "# Check for inorganic structures\n",
    "dataset[\"mixture\"] = dataset.apply(\n",
    "    lambda row: detect_mixtures(row.mol) if row.Filtered_at == 0 else None,\n",
    "    axis=1,\n",
    ")\n",
    "\n",
    "# Add task_number to failed entries\n",
    "dataset.loc[dataset[\"mixture\"] == True, [\"Filtered_at\"]] = task_number"
   ]
  },
  {
   "cell_type": "markdown",
   "metadata": {},
   "source": [
    "Below you can see all entries that are mixtures."
   ]
  },
  {
   "cell_type": "code",
   "execution_count": 10,
   "metadata": {},
   "outputs": [
    {
     "data": {
      "text/html": [
       "<div>\n",
       "<style scoped>\n",
       "    .dataframe tbody tr th:only-of-type {\n",
       "        vertical-align: middle;\n",
       "    }\n",
       "\n",
       "    .dataframe tbody tr th {\n",
       "        vertical-align: top;\n",
       "    }\n",
       "\n",
       "    .dataframe thead th {\n",
       "        text-align: right;\n",
       "    }\n",
       "</style>\n",
       "<table border=\"1\" class=\"dataframe\">\n",
       "  <thead>\n",
       "    <tr style=\"text-align: right;\">\n",
       "      <th></th>\n",
       "      <th>IDs</th>\n",
       "      <th>Names</th>\n",
       "      <th>SMILEs</th>\n",
       "      <th>Filtered_at</th>\n",
       "      <th>mol</th>\n",
       "      <th>Carbon_present</th>\n",
       "      <th>Inorganics</th>\n",
       "      <th>mixture</th>\n",
       "    </tr>\n",
       "  </thead>\n",
       "  <tbody>\n",
       "    <tr>\n",
       "      <th>5</th>\n",
       "      <td>6</td>\n",
       "      <td>2-Deoxy-D-glucose</td>\n",
       "      <td>OCC1OC(O)CC(O)C1O.O1CCOCC1</td>\n",
       "      <td>4</td>\n",
       "      <td>&lt;rdkit.Chem.rdchem.Mol object at 0x7f8df722bda0&gt;</td>\n",
       "      <td>True</td>\n",
       "      <td>False</td>\n",
       "      <td>True</td>\n",
       "    </tr>\n",
       "  </tbody>\n",
       "</table>\n",
       "</div>"
      ],
      "text/plain": [
       "   IDs              Names                      SMILEs  Filtered_at  \\\n",
       "5    6  2-Deoxy-D-glucose  OCC1OC(O)CC(O)C1O.O1CCOCC1            4   \n",
       "\n",
       "                                                mol Carbon_present Inorganics  \\\n",
       "5  <rdkit.Chem.rdchem.Mol object at 0x7f8df722bda0>           True      False   \n",
       "\n",
       "  mixture  \n",
       "5    True  "
      ]
     },
     "execution_count": 10,
     "metadata": {},
     "output_type": "execute_result"
    }
   ],
   "source": [
    "dataset[dataset[\"Filtered_at\"] == 4]"
   ]
  },
  {
   "cell_type": "markdown",
   "metadata": {},
   "source": [
    "### Step 3: Structural Cleaning \n",
    "--------------------------------------------------\n",
    "\n",
    "\"Some drugs need to be transformed \"into their salt form to enhance how the drug dissolves (...) and (to) increase its effectiveness.\"³ Therefore it is common for chemical compound databases to contain records of salts. If possible, a suggestion is to delete the records containing salts completely, since, similar to in-organic compounds, \"most descriptor-generating software (can not process salts)\" (Fourches 2010). While not desirable, it is still an acceptable procedure to convert compounds into their neutral forms. But cases like this should be tagged, filtered, and afterward manually curated or compared to the concrete neutral form of that compound. \n",
    "In case that we want to continue working on the converted records, we should perform the following steps:\n",
    "- check if records contain compounds with the presence of metals\n",
    "- removing the salts from the record\n",
    "- neutralize the record (normalization or essential standardization)\n",
    "- neutralize the charges\n",
    "\n",
    "\n",
    "³ (https://www.drugs.com/article/pharmaceutical-salts.html (03/12/21))"
   ]
  },
  {
   "cell_type": "code",
   "execution_count": 11,
   "metadata": {},
   "outputs": [],
   "source": [
    "# Structural coversion\n",
    "# Cleaning/removal of salts\n",
    "# Functions remove_salts\n",
    "# normalize_molecules\n",
    "# handle_charges\n",
    "# handle_hydrogens"
   ]
  },
  {
   "cell_type": "markdown",
   "metadata": {},
   "source": [
    "#### Task 5: Filter entries containing metals\n",
    "\n",
    "Entries can contain metals in different forms. Either as a regular compound in a mixture or as a counterion.<br> In the following steps, we search for those metals. When they are a counterion, we disconnect them from the non-metals they are bonding. \n",
    "We might not find any metals due to previous filtering steps detecting mixtures and inorganics. Therefore we could search in the flagged entries and clean those entries later on. "
   ]
  },
  {
   "cell_type": "code",
   "execution_count": 12,
   "metadata": {},
   "outputs": [],
   "source": [
    "# Setting up the task_number\n",
    "task_number = 5\n",
    "\n",
    "# Check for metals\n",
    "dataset[\"metals\"] = dataset.apply(\n",
    "    lambda row: detect_metals(row.mol) if row.Filtered_at == 0 else None,\n",
    "    axis=1,\n",
    ")\n",
    "\n",
    "# Add task_number to failed entries\n",
    "dataset.loc[dataset[\"metals\"] == True, [\"Filtered_at\"]] = task_number"
   ]
  },
  {
   "cell_type": "markdown",
   "metadata": {},
   "source": [
    "Below you can see all entries containing metals. We didn't find any entries in our filtered set, as already assumed."
   ]
  },
  {
   "cell_type": "code",
   "execution_count": 13,
   "metadata": {},
   "outputs": [
    {
     "data": {
      "text/html": [
       "<div>\n",
       "<style scoped>\n",
       "    .dataframe tbody tr th:only-of-type {\n",
       "        vertical-align: middle;\n",
       "    }\n",
       "\n",
       "    .dataframe tbody tr th {\n",
       "        vertical-align: top;\n",
       "    }\n",
       "\n",
       "    .dataframe thead th {\n",
       "        text-align: right;\n",
       "    }\n",
       "</style>\n",
       "<table border=\"1\" class=\"dataframe\">\n",
       "  <thead>\n",
       "    <tr style=\"text-align: right;\">\n",
       "      <th></th>\n",
       "      <th>IDs</th>\n",
       "      <th>Names</th>\n",
       "      <th>SMILEs</th>\n",
       "      <th>Filtered_at</th>\n",
       "      <th>mol</th>\n",
       "      <th>Carbon_present</th>\n",
       "      <th>Inorganics</th>\n",
       "      <th>mixture</th>\n",
       "      <th>metals</th>\n",
       "    </tr>\n",
       "  </thead>\n",
       "  <tbody>\n",
       "  </tbody>\n",
       "</table>\n",
       "</div>"
      ],
      "text/plain": [
       "Empty DataFrame\n",
       "Columns: [IDs, Names, SMILEs, Filtered_at, mol, Carbon_present, Inorganics, mixture, metals]\n",
       "Index: []"
      ]
     },
     "execution_count": 13,
     "metadata": {},
     "output_type": "execute_result"
    }
   ],
   "source": [
    "dataset[dataset[\"Filtered_at\"] == 5]"
   ]
  },
  {
   "cell_type": "markdown",
   "metadata": {},
   "source": [
    "So the next step would be to examine our \"failed\" entries.<br>\n",
    "For that, we make a copy of our current status of the dataset."
   ]
  },
  {
   "cell_type": "code",
   "execution_count": 14,
   "metadata": {},
   "outputs": [],
   "source": [
    "score = [3, 4]\n",
    "failed_entries_copy = dataset[dataset[\"Filtered_at\"].isin(score)].copy()"
   ]
  },
  {
   "cell_type": "markdown",
   "metadata": {},
   "source": [
    "And we check for the presence of metals here"
   ]
  },
  {
   "cell_type": "code",
   "execution_count": 15,
   "metadata": {},
   "outputs": [],
   "source": [
    "# Check for metals\n",
    "failed_entries_copy[\"metals\"] = failed_entries_copy.apply(\n",
    "    lambda row: detect_metals(row.mol) if row.Filtered_at != 0 else None,\n",
    "    axis=1,\n",
    ")"
   ]
  },
  {
   "cell_type": "code",
   "execution_count": 16,
   "metadata": {},
   "outputs": [
    {
     "data": {
      "text/html": [
       "<div>\n",
       "<style scoped>\n",
       "    .dataframe tbody tr th:only-of-type {\n",
       "        vertical-align: middle;\n",
       "    }\n",
       "\n",
       "    .dataframe tbody tr th {\n",
       "        vertical-align: top;\n",
       "    }\n",
       "\n",
       "    .dataframe thead th {\n",
       "        text-align: right;\n",
       "    }\n",
       "</style>\n",
       "<table border=\"1\" class=\"dataframe\">\n",
       "  <thead>\n",
       "    <tr style=\"text-align: right;\">\n",
       "      <th></th>\n",
       "      <th>IDs</th>\n",
       "      <th>Names</th>\n",
       "      <th>SMILEs</th>\n",
       "      <th>Filtered_at</th>\n",
       "      <th>mol</th>\n",
       "      <th>Carbon_present</th>\n",
       "      <th>Inorganics</th>\n",
       "      <th>mixture</th>\n",
       "      <th>metals</th>\n",
       "    </tr>\n",
       "  </thead>\n",
       "  <tbody>\n",
       "    <tr>\n",
       "      <th>200</th>\n",
       "      <td>201</td>\n",
       "      <td>zirconium</td>\n",
       "      <td>CCO[Zr](OCC)(OCC)OCC</td>\n",
       "      <td>3</td>\n",
       "      <td>&lt;rdkit.Chem.rdchem.Mol object at 0x7f8df72487b0&gt;</td>\n",
       "      <td>True</td>\n",
       "      <td>True</td>\n",
       "      <td>None</td>\n",
       "      <td>True</td>\n",
       "    </tr>\n",
       "    <tr>\n",
       "      <th>204</th>\n",
       "      <td>206</td>\n",
       "      <td>covalent_metal</td>\n",
       "      <td>CCC(=O)O[Na]</td>\n",
       "      <td>3</td>\n",
       "      <td>&lt;rdkit.Chem.rdchem.Mol object at 0x7f8df72488f0&gt;</td>\n",
       "      <td>True</td>\n",
       "      <td>True</td>\n",
       "      <td>None</td>\n",
       "      <td>True</td>\n",
       "    </tr>\n",
       "  </tbody>\n",
       "</table>\n",
       "</div>"
      ],
      "text/plain": [
       "     IDs           Names                SMILEs  Filtered_at  \\\n",
       "200  201       zirconium  CCO[Zr](OCC)(OCC)OCC            3   \n",
       "204  206  covalent_metal          CCC(=O)O[Na]            3   \n",
       "\n",
       "                                                  mol Carbon_present  \\\n",
       "200  <rdkit.Chem.rdchem.Mol object at 0x7f8df72487b0>           True   \n",
       "204  <rdkit.Chem.rdchem.Mol object at 0x7f8df72488f0>           True   \n",
       "\n",
       "    Inorganics mixture  metals  \n",
       "200       True    None    True  \n",
       "204       True    None    True  "
      ]
     },
     "execution_count": 16,
     "metadata": {},
     "output_type": "execute_result"
    }
   ],
   "source": [
    "failed_entries_copy[failed_entries_copy[\"metals\"] == True]"
   ]
  },
  {
   "cell_type": "markdown",
   "metadata": {},
   "source": [
    "One entry has a counterion that can be disconnected. We might consider removing the metals in those mixture and re-run this standardization script with the cleaned entry. <br> But for this case, this does not make much sense, since the resulting molecules after removing Zirconium would be not functional and the covalent metal would just \n",
    "\n",
    "But what we could have done, if it made sense:\n",
    "1. disconnect_metals\n",
    "2. handle_charges.uncharge\n",
    "3. remove_salts\n",
    "4. handle_fragments.choose_largest_fragment"
   ]
  },
  {
   "cell_type": "markdown",
   "metadata": {},
   "source": [
    "#### Task 5.5: Reintegrate entry after metal disconnection"
   ]
  },
  {
   "cell_type": "code",
   "execution_count": 17,
   "metadata": {},
   "outputs": [],
   "source": [
    "task_number = 5.5\n",
    "\n",
    "# Disconnect metals\n",
    "dataset[\"mol\"] = dataset.apply(\n",
    "    lambda row: disconnect_metals(row.mol) if row.metals == True else row.mol,\n",
    "    axis=1,\n",
    ")\n",
    "\n",
    "# Normalize entry\n",
    "dataset[\"mol\"] = dataset.apply(\n",
    "    lambda row: handle_charges.uncharge(row.mol) if row.metals == True else row.mol,\n",
    "    axis=1,\n",
    ")\n",
    "\n",
    "\n",
    "# Add task_number to failed entries\n",
    "dataset.loc[dataset[\"metals\"] == True, [\"Cleaned_at\"]] = task_number"
   ]
  },
  {
   "cell_type": "code",
   "execution_count": 18,
   "metadata": {},
   "outputs": [
    {
     "data": {
      "text/html": [
       "<div>\n",
       "<style scoped>\n",
       "    .dataframe tbody tr th:only-of-type {\n",
       "        vertical-align: middle;\n",
       "    }\n",
       "\n",
       "    .dataframe tbody tr th {\n",
       "        vertical-align: top;\n",
       "    }\n",
       "\n",
       "    .dataframe thead th {\n",
       "        text-align: right;\n",
       "    }\n",
       "</style>\n",
       "<table border=\"1\" class=\"dataframe\">\n",
       "  <thead>\n",
       "    <tr style=\"text-align: right;\">\n",
       "      <th></th>\n",
       "      <th>IDs</th>\n",
       "      <th>Names</th>\n",
       "      <th>SMILEs</th>\n",
       "      <th>Filtered_at</th>\n",
       "      <th>mol</th>\n",
       "      <th>Carbon_present</th>\n",
       "      <th>Inorganics</th>\n",
       "      <th>mixture</th>\n",
       "      <th>metals</th>\n",
       "      <th>Cleaned_at</th>\n",
       "    </tr>\n",
       "  </thead>\n",
       "  <tbody>\n",
       "  </tbody>\n",
       "</table>\n",
       "</div>"
      ],
      "text/plain": [
       "Empty DataFrame\n",
       "Columns: [IDs, Names, SMILEs, Filtered_at, mol, Carbon_present, Inorganics, mixture, metals, Cleaned_at]\n",
       "Index: []"
      ]
     },
     "execution_count": 18,
     "metadata": {},
     "output_type": "execute_result"
    }
   ],
   "source": [
    "dataset[dataset[\"Cleaned_at\"] == 5.5]"
   ]
  },
  {
   "cell_type": "markdown",
   "metadata": {},
   "source": [
    "#### Task 6: Removing salts \n",
    "\n",
    "This curation step can be applied to different subsets of the dataset.<br>\n",
    "First, we will apply this to our entries that passed all steps before. \n",
    "Since we filtered all mixtures out in previous steps, all salts found in this step are the only compound in the entry. Therefore they need to be deleted (filtered).\n",
    "\n",
    "More interesting might be the inspection of the *inorganics* **(Task 3)** or *mixtures* **(Task 4)**. We could check if any of those mixtures contain salts known in our dictionary. If so, we can delete those salts and reuse the entries if they are free of mixtures."
   ]
  },
  {
   "cell_type": "markdown",
   "metadata": {},
   "source": [
    "First, we will search for salts in our dataset. "
   ]
  },
  {
   "cell_type": "code",
   "execution_count": 19,
   "metadata": {},
   "outputs": [],
   "source": [
    "# Setting up the task_number\n",
    "task_number = 6\n",
    "\n",
    "# Check for salts\n",
    "dataset[\"salts\"] = dataset.apply(\n",
    "    lambda row: detect_salts(row.mol) if row.Filtered_at == 0 else None,\n",
    "    axis=1,\n",
    ")\n",
    "\n",
    "# Add task_number to failed entries\n",
    "dataset.loc[dataset[\"salts\"] == True, [\"Filtered_at\"]] = task_number"
   ]
  },
  {
   "cell_type": "markdown",
   "metadata": {},
   "source": [
    "Below you can see all entries containing salts."
   ]
  },
  {
   "cell_type": "code",
   "execution_count": 20,
   "metadata": {},
   "outputs": [
    {
     "data": {
      "text/html": [
       "<div>\n",
       "<style scoped>\n",
       "    .dataframe tbody tr th:only-of-type {\n",
       "        vertical-align: middle;\n",
       "    }\n",
       "\n",
       "    .dataframe tbody tr th {\n",
       "        vertical-align: top;\n",
       "    }\n",
       "\n",
       "    .dataframe thead th {\n",
       "        text-align: right;\n",
       "    }\n",
       "</style>\n",
       "<table border=\"1\" class=\"dataframe\">\n",
       "  <thead>\n",
       "    <tr style=\"text-align: right;\">\n",
       "      <th></th>\n",
       "      <th>IDs</th>\n",
       "      <th>Names</th>\n",
       "      <th>SMILEs</th>\n",
       "      <th>Filtered_at</th>\n",
       "      <th>mol</th>\n",
       "      <th>Carbon_present</th>\n",
       "      <th>Inorganics</th>\n",
       "      <th>mixture</th>\n",
       "      <th>metals</th>\n",
       "      <th>Cleaned_at</th>\n",
       "      <th>salts</th>\n",
       "    </tr>\n",
       "  </thead>\n",
       "  <tbody>\n",
       "    <tr>\n",
       "      <th>22</th>\n",
       "      <td>23</td>\n",
       "      <td>Acetic acid</td>\n",
       "      <td>CC(O)=O</td>\n",
       "      <td>6</td>\n",
       "      <td>&lt;rdkit.Chem.rdchem.Mol object at 0x7f8df722bf80&gt;</td>\n",
       "      <td>True</td>\n",
       "      <td>False</td>\n",
       "      <td>False</td>\n",
       "      <td>False</td>\n",
       "      <td>NaN</td>\n",
       "      <td>True</td>\n",
       "    </tr>\n",
       "    <tr>\n",
       "      <th>199</th>\n",
       "      <td>200</td>\n",
       "      <td>Citric acid</td>\n",
       "      <td>OC(=O)CC(O)(CC(O)=O)C(O)=O</td>\n",
       "      <td>6</td>\n",
       "      <td>&lt;rdkit.Chem.rdchem.Mol object at 0x7f8df7248760&gt;</td>\n",
       "      <td>True</td>\n",
       "      <td>False</td>\n",
       "      <td>False</td>\n",
       "      <td>False</td>\n",
       "      <td>NaN</td>\n",
       "      <td>True</td>\n",
       "    </tr>\n",
       "  </tbody>\n",
       "</table>\n",
       "</div>"
      ],
      "text/plain": [
       "     IDs        Names                      SMILEs  Filtered_at  \\\n",
       "22    23  Acetic acid                     CC(O)=O            6   \n",
       "199  200  Citric acid  OC(=O)CC(O)(CC(O)=O)C(O)=O            6   \n",
       "\n",
       "                                                  mol Carbon_present  \\\n",
       "22   <rdkit.Chem.rdchem.Mol object at 0x7f8df722bf80>           True   \n",
       "199  <rdkit.Chem.rdchem.Mol object at 0x7f8df7248760>           True   \n",
       "\n",
       "    Inorganics mixture metals  Cleaned_at salts  \n",
       "22       False   False  False         NaN  True  \n",
       "199      False   False  False         NaN  True  "
      ]
     },
     "execution_count": 20,
     "metadata": {},
     "output_type": "execute_result"
    }
   ],
   "source": [
    "dataset[dataset[\"Filtered_at\"] == 6]"
   ]
  },
  {
   "cell_type": "markdown",
   "metadata": {},
   "source": [
    "To demonstrate the removal of salts, we can generate SMILES out of the mol after the deletion of the salts.\n",
    "We will observe the generation of an empty SMILES string."
   ]
  },
  {
   "cell_type": "code",
   "execution_count": 21,
   "metadata": {},
   "outputs": [
    {
     "data": {
      "text/html": [
       "<div>\n",
       "<style scoped>\n",
       "    .dataframe tbody tr th:only-of-type {\n",
       "        vertical-align: middle;\n",
       "    }\n",
       "\n",
       "    .dataframe tbody tr th {\n",
       "        vertical-align: top;\n",
       "    }\n",
       "\n",
       "    .dataframe thead th {\n",
       "        text-align: right;\n",
       "    }\n",
       "</style>\n",
       "<table border=\"1\" class=\"dataframe\">\n",
       "  <thead>\n",
       "    <tr style=\"text-align: right;\">\n",
       "      <th></th>\n",
       "      <th>IDs</th>\n",
       "      <th>Names</th>\n",
       "      <th>SMILEs</th>\n",
       "      <th>Filtered_at</th>\n",
       "      <th>mol</th>\n",
       "      <th>Carbon_present</th>\n",
       "      <th>Inorganics</th>\n",
       "      <th>mixture</th>\n",
       "      <th>metals</th>\n",
       "      <th>Cleaned_at</th>\n",
       "      <th>salts</th>\n",
       "    </tr>\n",
       "  </thead>\n",
       "  <tbody>\n",
       "    <tr>\n",
       "      <th>0</th>\n",
       "      <td>1</td>\n",
       "      <td>(R)-Roscovitine</td>\n",
       "      <td>CCC(CO)Nc1nc(NCc2ccccc2)c2ncn(C(C)C)c2n1.[Ca]</td>\n",
       "      <td>3</td>\n",
       "      <td>&lt;rdkit.Chem.rdchem.Mol object at 0x7f8df7280490&gt;</td>\n",
       "      <td>True</td>\n",
       "      <td>True</td>\n",
       "      <td>None</td>\n",
       "      <td>None</td>\n",
       "      <td>NaN</td>\n",
       "      <td>None</td>\n",
       "    </tr>\n",
       "    <tr>\n",
       "      <th>1</th>\n",
       "      <td>2</td>\n",
       "      <td>17-Methyltestosterone</td>\n",
       "      <td>CC1(O)CCC2C3CCC4=CC(=O)CCC4(C)C3CCC12C</td>\n",
       "      <td>0</td>\n",
       "      <td>&lt;rdkit.Chem.rdchem.Mol object at 0x7f8df727bf80&gt;</td>\n",
       "      <td>True</td>\n",
       "      <td>False</td>\n",
       "      <td>False</td>\n",
       "      <td>False</td>\n",
       "      <td>NaN</td>\n",
       "      <td>False</td>\n",
       "    </tr>\n",
       "    <tr>\n",
       "      <th>2</th>\n",
       "      <td>3</td>\n",
       "      <td>1-alpha-Hydroxycholecalciferol</td>\n",
       "      <td>CC(C)CCCC(C)C1CCC2C(CCCC12C)=CC=C1CC(O)CC(O)C1=C</td>\n",
       "      <td>0</td>\n",
       "      <td>&lt;rdkit.Chem.rdchem.Mol object at 0x7f8df727ba80&gt;</td>\n",
       "      <td>True</td>\n",
       "      <td>False</td>\n",
       "      <td>False</td>\n",
       "      <td>False</td>\n",
       "      <td>NaN</td>\n",
       "      <td>False</td>\n",
       "    </tr>\n",
       "    <tr>\n",
       "      <th>3</th>\n",
       "      <td>4</td>\n",
       "      <td>2,3-Dimercaptosuccinic acid</td>\n",
       "      <td>OC(=O)C(S)C(S)C(O)=O</td>\n",
       "      <td>0</td>\n",
       "      <td>&lt;rdkit.Chem.rdchem.Mol object at 0x7f8df727bee0&gt;</td>\n",
       "      <td>True</td>\n",
       "      <td>False</td>\n",
       "      <td>False</td>\n",
       "      <td>False</td>\n",
       "      <td>NaN</td>\n",
       "      <td>False</td>\n",
       "    </tr>\n",
       "    <tr>\n",
       "      <th>4</th>\n",
       "      <td>5</td>\n",
       "      <td>2,4,6-Trinitrotoluene</td>\n",
       "      <td>Cc1c(cc(cc1N(=O)=O)N(=O)=O)N(=O)=O</td>\n",
       "      <td>0</td>\n",
       "      <td>&lt;rdkit.Chem.rdchem.Mol object at 0x7f8df727bb70&gt;</td>\n",
       "      <td>True</td>\n",
       "      <td>False</td>\n",
       "      <td>False</td>\n",
       "      <td>False</td>\n",
       "      <td>NaN</td>\n",
       "      <td>False</td>\n",
       "    </tr>\n",
       "  </tbody>\n",
       "</table>\n",
       "</div>"
      ],
      "text/plain": [
       "   IDs                           Names  \\\n",
       "0    1                 (R)-Roscovitine   \n",
       "1    2           17-Methyltestosterone   \n",
       "2    3  1-alpha-Hydroxycholecalciferol   \n",
       "3    4     2,3-Dimercaptosuccinic acid   \n",
       "4    5           2,4,6-Trinitrotoluene   \n",
       "\n",
       "                                             SMILEs  Filtered_at  \\\n",
       "0     CCC(CO)Nc1nc(NCc2ccccc2)c2ncn(C(C)C)c2n1.[Ca]            3   \n",
       "1            CC1(O)CCC2C3CCC4=CC(=O)CCC4(C)C3CCC12C            0   \n",
       "2  CC(C)CCCC(C)C1CCC2C(CCCC12C)=CC=C1CC(O)CC(O)C1=C            0   \n",
       "3                              OC(=O)C(S)C(S)C(O)=O            0   \n",
       "4                Cc1c(cc(cc1N(=O)=O)N(=O)=O)N(=O)=O            0   \n",
       "\n",
       "                                                mol Carbon_present Inorganics  \\\n",
       "0  <rdkit.Chem.rdchem.Mol object at 0x7f8df7280490>           True       True   \n",
       "1  <rdkit.Chem.rdchem.Mol object at 0x7f8df727bf80>           True      False   \n",
       "2  <rdkit.Chem.rdchem.Mol object at 0x7f8df727ba80>           True      False   \n",
       "3  <rdkit.Chem.rdchem.Mol object at 0x7f8df727bee0>           True      False   \n",
       "4  <rdkit.Chem.rdchem.Mol object at 0x7f8df727bb70>           True      False   \n",
       "\n",
       "  mixture metals  Cleaned_at  salts  \n",
       "0    None   None         NaN   None  \n",
       "1   False  False         NaN  False  \n",
       "2   False  False         NaN  False  \n",
       "3   False  False         NaN  False  \n",
       "4   False  False         NaN  False  "
      ]
     },
     "execution_count": 21,
     "metadata": {},
     "output_type": "execute_result"
    }
   ],
   "source": [
    "# First we make a deep copy of the original dataframe\n",
    "demo_df = dataset.copy()\n",
    "demo_df.head()"
   ]
  },
  {
   "cell_type": "markdown",
   "metadata": {},
   "source": [
    "We then apply our changes to the copy to look at the SMILES generated after removal."
   ]
  },
  {
   "cell_type": "code",
   "execution_count": 22,
   "metadata": {},
   "outputs": [],
   "source": [
    "# Applying the remove_salts function on the molecules detected as salts in Tasks 6.\n",
    "demo_df[\"mol\"] = demo_df.apply(\n",
    "    lambda row: remove_salts(row.mol) if row.Filtered_at == 6 else row.mol,\n",
    "    axis=1,\n",
    ")\n",
    "\n",
    "# Generate a SMILES of the entires. (Only for demonstration purposes)\n",
    "demo_df[\"SMILEs\"] = demo_df.apply(\n",
    "    lambda row: convert_format.convert_mol_to_smiles(row.mol)\n",
    "    if row.Filtered_at == 6\n",
    "    else None,\n",
    "    axis=1,\n",
    ")"
   ]
  },
  {
   "cell_type": "markdown",
   "metadata": {},
   "source": [
    "Then we can look at our entries containing salts"
   ]
  },
  {
   "cell_type": "code",
   "execution_count": 23,
   "metadata": {},
   "outputs": [
    {
     "data": {
      "text/html": [
       "<div>\n",
       "<style scoped>\n",
       "    .dataframe tbody tr th:only-of-type {\n",
       "        vertical-align: middle;\n",
       "    }\n",
       "\n",
       "    .dataframe tbody tr th {\n",
       "        vertical-align: top;\n",
       "    }\n",
       "\n",
       "    .dataframe thead th {\n",
       "        text-align: right;\n",
       "    }\n",
       "</style>\n",
       "<table border=\"1\" class=\"dataframe\">\n",
       "  <thead>\n",
       "    <tr style=\"text-align: right;\">\n",
       "      <th></th>\n",
       "      <th>IDs</th>\n",
       "      <th>Names</th>\n",
       "      <th>SMILEs</th>\n",
       "      <th>Filtered_at</th>\n",
       "      <th>mol</th>\n",
       "      <th>Carbon_present</th>\n",
       "      <th>Inorganics</th>\n",
       "      <th>mixture</th>\n",
       "      <th>metals</th>\n",
       "      <th>Cleaned_at</th>\n",
       "      <th>salts</th>\n",
       "    </tr>\n",
       "  </thead>\n",
       "  <tbody>\n",
       "    <tr>\n",
       "      <th>22</th>\n",
       "      <td>23</td>\n",
       "      <td>Acetic acid</td>\n",
       "      <td></td>\n",
       "      <td>6</td>\n",
       "      <td>&lt;rdkit.Chem.rdchem.Mol object at 0x7f8df71d4030&gt;</td>\n",
       "      <td>True</td>\n",
       "      <td>False</td>\n",
       "      <td>False</td>\n",
       "      <td>False</td>\n",
       "      <td>NaN</td>\n",
       "      <td>True</td>\n",
       "    </tr>\n",
       "    <tr>\n",
       "      <th>199</th>\n",
       "      <td>200</td>\n",
       "      <td>Citric acid</td>\n",
       "      <td></td>\n",
       "      <td>6</td>\n",
       "      <td>&lt;rdkit.Chem.rdchem.Mol object at 0x7f8df718b8f0&gt;</td>\n",
       "      <td>True</td>\n",
       "      <td>False</td>\n",
       "      <td>False</td>\n",
       "      <td>False</td>\n",
       "      <td>NaN</td>\n",
       "      <td>True</td>\n",
       "    </tr>\n",
       "  </tbody>\n",
       "</table>\n",
       "</div>"
      ],
      "text/plain": [
       "     IDs        Names SMILEs  Filtered_at  \\\n",
       "22    23  Acetic acid                   6   \n",
       "199  200  Citric acid                   6   \n",
       "\n",
       "                                                  mol Carbon_present  \\\n",
       "22   <rdkit.Chem.rdchem.Mol object at 0x7f8df71d4030>           True   \n",
       "199  <rdkit.Chem.rdchem.Mol object at 0x7f8df718b8f0>           True   \n",
       "\n",
       "    Inorganics mixture metals  Cleaned_at salts  \n",
       "22       False   False  False         NaN  True  \n",
       "199      False   False  False         NaN  True  "
      ]
     },
     "execution_count": 23,
     "metadata": {},
     "output_type": "execute_result"
    }
   ],
   "source": [
    "demo_df[demo_df[\"Filtered_at\"] == 6]"
   ]
  },
  {
   "cell_type": "markdown",
   "metadata": {},
   "source": [
    "Next, we can filter for salts in the entries screened for inorganics and mixtures (as we did for the metals) to see if any inorganics or mixtures might have been salts."
   ]
  },
  {
   "cell_type": "code",
   "execution_count": 24,
   "metadata": {},
   "outputs": [],
   "source": [
    "score = [3, 4]\n",
    "failed_entries_copy = dataset[dataset[\"Filtered_at\"].isin(score)].copy()"
   ]
  },
  {
   "cell_type": "code",
   "execution_count": 25,
   "metadata": {},
   "outputs": [],
   "source": [
    "# Check for salts\n",
    "failed_entries_copy[\"salts\"] = failed_entries_copy.apply(\n",
    "    lambda row: detect_salts(row.mol) if row.Filtered_at != 0 else None,\n",
    "    axis=1,\n",
    ")"
   ]
  },
  {
   "cell_type": "code",
   "execution_count": 26,
   "metadata": {},
   "outputs": [
    {
     "data": {
      "text/html": [
       "<div>\n",
       "<style scoped>\n",
       "    .dataframe tbody tr th:only-of-type {\n",
       "        vertical-align: middle;\n",
       "    }\n",
       "\n",
       "    .dataframe tbody tr th {\n",
       "        vertical-align: top;\n",
       "    }\n",
       "\n",
       "    .dataframe thead th {\n",
       "        text-align: right;\n",
       "    }\n",
       "</style>\n",
       "<table border=\"1\" class=\"dataframe\">\n",
       "  <thead>\n",
       "    <tr style=\"text-align: right;\">\n",
       "      <th></th>\n",
       "      <th>IDs</th>\n",
       "      <th>Names</th>\n",
       "      <th>SMILEs</th>\n",
       "      <th>Filtered_at</th>\n",
       "      <th>mol</th>\n",
       "      <th>Carbon_present</th>\n",
       "      <th>Inorganics</th>\n",
       "      <th>mixture</th>\n",
       "      <th>metals</th>\n",
       "      <th>Cleaned_at</th>\n",
       "      <th>salts</th>\n",
       "    </tr>\n",
       "  </thead>\n",
       "  <tbody>\n",
       "    <tr>\n",
       "      <th>0</th>\n",
       "      <td>1</td>\n",
       "      <td>(R)-Roscovitine</td>\n",
       "      <td>CCC(CO)Nc1nc(NCc2ccccc2)c2ncn(C(C)C)c2n1.[Ca]</td>\n",
       "      <td>3</td>\n",
       "      <td>&lt;rdkit.Chem.rdchem.Mol object at 0x7f8df7280490&gt;</td>\n",
       "      <td>True</td>\n",
       "      <td>True</td>\n",
       "      <td>None</td>\n",
       "      <td>None</td>\n",
       "      <td>NaN</td>\n",
       "      <td>True</td>\n",
       "    </tr>\n",
       "    <tr>\n",
       "      <th>5</th>\n",
       "      <td>6</td>\n",
       "      <td>2-Deoxy-D-glucose</td>\n",
       "      <td>OCC1OC(O)CC(O)C1O.O1CCOCC1</td>\n",
       "      <td>4</td>\n",
       "      <td>&lt;rdkit.Chem.rdchem.Mol object at 0x7f8df722bda0&gt;</td>\n",
       "      <td>True</td>\n",
       "      <td>False</td>\n",
       "      <td>True</td>\n",
       "      <td>None</td>\n",
       "      <td>NaN</td>\n",
       "      <td>False</td>\n",
       "    </tr>\n",
       "    <tr>\n",
       "      <th>114</th>\n",
       "      <td>115</td>\n",
       "      <td>Bortezomib</td>\n",
       "      <td>CC(C)CC(NC(=O)C(Cc1ccccc1)NC(=O)c1cnccn1)B(O)O</td>\n",
       "      <td>3</td>\n",
       "      <td>&lt;rdkit.Chem.rdchem.Mol object at 0x7f8df7245d00&gt;</td>\n",
       "      <td>True</td>\n",
       "      <td>True</td>\n",
       "      <td>None</td>\n",
       "      <td>None</td>\n",
       "      <td>NaN</td>\n",
       "      <td>False</td>\n",
       "    </tr>\n",
       "    <tr>\n",
       "      <th>200</th>\n",
       "      <td>201</td>\n",
       "      <td>zirconium</td>\n",
       "      <td>CCO[Zr](OCC)(OCC)OCC</td>\n",
       "      <td>3</td>\n",
       "      <td>&lt;rdkit.Chem.rdchem.Mol object at 0x7f8df72487b0&gt;</td>\n",
       "      <td>True</td>\n",
       "      <td>True</td>\n",
       "      <td>None</td>\n",
       "      <td>None</td>\n",
       "      <td>NaN</td>\n",
       "      <td>False</td>\n",
       "    </tr>\n",
       "    <tr>\n",
       "      <th>201</th>\n",
       "      <td>202</td>\n",
       "      <td>hemoglobin</td>\n",
       "      <td>CC1=C(C2=CC3=NC(=CC4=C(C(=C([N-]4)C=C5C(=C(C(=...</td>\n",
       "      <td>3</td>\n",
       "      <td>&lt;rdkit.Chem.rdchem.Mol object at 0x7f8df7248800&gt;</td>\n",
       "      <td>True</td>\n",
       "      <td>True</td>\n",
       "      <td>None</td>\n",
       "      <td>None</td>\n",
       "      <td>NaN</td>\n",
       "      <td>False</td>\n",
       "    </tr>\n",
       "    <tr>\n",
       "      <th>204</th>\n",
       "      <td>206</td>\n",
       "      <td>covalent_metal</td>\n",
       "      <td>CCC(=O)O[Na]</td>\n",
       "      <td>3</td>\n",
       "      <td>&lt;rdkit.Chem.rdchem.Mol object at 0x7f8df72488f0&gt;</td>\n",
       "      <td>True</td>\n",
       "      <td>True</td>\n",
       "      <td>None</td>\n",
       "      <td>None</td>\n",
       "      <td>NaN</td>\n",
       "      <td>False</td>\n",
       "    </tr>\n",
       "  </tbody>\n",
       "</table>\n",
       "</div>"
      ],
      "text/plain": [
       "     IDs              Names  \\\n",
       "0      1    (R)-Roscovitine   \n",
       "5      6  2-Deoxy-D-glucose   \n",
       "114  115         Bortezomib   \n",
       "200  201          zirconium   \n",
       "201  202         hemoglobin   \n",
       "204  206     covalent_metal   \n",
       "\n",
       "                                                SMILEs  Filtered_at  \\\n",
       "0        CCC(CO)Nc1nc(NCc2ccccc2)c2ncn(C(C)C)c2n1.[Ca]            3   \n",
       "5                           OCC1OC(O)CC(O)C1O.O1CCOCC1            4   \n",
       "114     CC(C)CC(NC(=O)C(Cc1ccccc1)NC(=O)c1cnccn1)B(O)O            3   \n",
       "200                               CCO[Zr](OCC)(OCC)OCC            3   \n",
       "201  CC1=C(C2=CC3=NC(=CC4=C(C(=C([N-]4)C=C5C(=C(C(=...            3   \n",
       "204                                       CCC(=O)O[Na]            3   \n",
       "\n",
       "                                                  mol Carbon_present  \\\n",
       "0    <rdkit.Chem.rdchem.Mol object at 0x7f8df7280490>           True   \n",
       "5    <rdkit.Chem.rdchem.Mol object at 0x7f8df722bda0>           True   \n",
       "114  <rdkit.Chem.rdchem.Mol object at 0x7f8df7245d00>           True   \n",
       "200  <rdkit.Chem.rdchem.Mol object at 0x7f8df72487b0>           True   \n",
       "201  <rdkit.Chem.rdchem.Mol object at 0x7f8df7248800>           True   \n",
       "204  <rdkit.Chem.rdchem.Mol object at 0x7f8df72488f0>           True   \n",
       "\n",
       "    Inorganics mixture metals  Cleaned_at  salts  \n",
       "0         True    None   None         NaN   True  \n",
       "5        False    True   None         NaN  False  \n",
       "114       True    None   None         NaN  False  \n",
       "200       True    None   None         NaN  False  \n",
       "201       True    None   None         NaN  False  \n",
       "204       True    None   None         NaN  False  "
      ]
     },
     "execution_count": 26,
     "metadata": {},
     "output_type": "execute_result"
    }
   ],
   "source": [
    "failed_entries_copy"
   ]
  },
  {
   "cell_type": "markdown",
   "metadata": {},
   "source": [
    "One of the filtered entries in this example contained a salt. We might consider removing the salt in this mixture and re-run this standardization script with the cleaned entry. "
   ]
  },
  {
   "cell_type": "markdown",
   "metadata": {},
   "source": [
    "#### Task 7: Normalize molecules\n",
    "\n",
    "handle_charges.uncharge (Attempts to neutralize charges by adding and/or removing hydrogens where possible.)"
   ]
  },
  {
   "cell_type": "code",
   "execution_count": 27,
   "metadata": {},
   "outputs": [
    {
     "ename": "NameError",
     "evalue": "name 'result1' is not defined",
     "output_type": "error",
     "traceback": [
      "\u001b[0;31m---------------------------------------------------------------------------\u001b[0m",
      "\u001b[0;31mNameError\u001b[0m                                 Traceback (most recent call last)",
      "\u001b[0;32m<ipython-input-27-e8866398bf1a>\u001b[0m in \u001b[0;36m<module>\u001b[0;34m\u001b[0m\n\u001b[1;32m      4\u001b[0m \u001b[0mtask_number\u001b[0m \u001b[0;34m=\u001b[0m \u001b[0;36m7\u001b[0m\u001b[0;34m\u001b[0m\u001b[0;34m\u001b[0m\u001b[0m\n\u001b[1;32m      5\u001b[0m \u001b[0;31m# getting the valid entries from the step before\u001b[0m\u001b[0;34m\u001b[0m\u001b[0;34m\u001b[0m\u001b[0;34m\u001b[0m\u001b[0m\n\u001b[0;32m----> 6\u001b[0;31m \u001b[0mdataset\u001b[0m \u001b[0;34m=\u001b[0m \u001b[0mresult1\u001b[0m\u001b[0;34m\u001b[0m\u001b[0;34m\u001b[0m\u001b[0m\n\u001b[0m\u001b[1;32m      7\u001b[0m \u001b[0;31m# dataset.head(100)\u001b[0m\u001b[0;34m\u001b[0m\u001b[0;34m\u001b[0m\u001b[0;34m\u001b[0m\u001b[0m\n\u001b[1;32m      8\u001b[0m \u001b[0mdataset\u001b[0m\u001b[0;34m[\u001b[0m\u001b[0;34m\"normalized\"\u001b[0m\u001b[0;34m]\u001b[0m \u001b[0;34m=\u001b[0m \u001b[0mdataset\u001b[0m\u001b[0;34m[\u001b[0m\u001b[0;34m\"mol\"\u001b[0m\u001b[0;34m]\u001b[0m\u001b[0;34m.\u001b[0m\u001b[0mapply\u001b[0m\u001b[0;34m(\u001b[0m\u001b[0mnormalize\u001b[0m\u001b[0;34m)\u001b[0m\u001b[0;34m\u001b[0m\u001b[0;34m\u001b[0m\u001b[0m\n",
      "\u001b[0;31mNameError\u001b[0m: name 'result1' is not defined"
     ]
    }
   ],
   "source": [
    "# TODO: Finish all steps here\n",
    "\n",
    "# Setting up the task_number\n",
    "task_number = 7\n",
    "# getting the valid entries from the step before\n",
    "dataset = result1\n",
    "# dataset.head(100)\n",
    "dataset[\"normalized\"] = dataset[\"mol\"].apply(normalize)\n",
    "result7 = dataset\n",
    "result7.head()"
   ]
  },
  {
   "cell_type": "markdown",
   "metadata": {},
   "source": [
    "#### Task 8: Charges and Hydrogens TODO"
   ]
  },
  {
   "cell_type": "code",
   "execution_count": null,
   "metadata": {},
   "outputs": [],
   "source": [
    "# TODO: Add the functionlaity here"
   ]
  },
  {
   "cell_type": "markdown",
   "metadata": {},
   "source": [
    "### Step 4: Normalization of Specific Chemotypes\n",
    "\n",
    "More complex than just Normalization."
   ]
  },
  {
   "cell_type": "code",
   "execution_count": null,
   "metadata": {},
   "outputs": [],
   "source": [
    "# TODO: Finish all steps here\n",
    "\n",
    "# Normalization of specific chemotypes\n",
    "# normalize_molecules"
   ]
  },
  {
   "cell_type": "code",
   "execution_count": null,
   "metadata": {},
   "outputs": [],
   "source": [
    "# TODO: Finish all steps here\n",
    "\n",
    "# Treatment of tautomeric forms\n",
    "# handle_tautomers"
   ]
  },
  {
   "cell_type": "markdown",
   "metadata": {},
   "source": [
    "#### Task 9: Generate a canonicalized tautomer on SMILEs entries"
   ]
  },
  {
   "cell_type": "code",
   "execution_count": null,
   "metadata": {},
   "outputs": [],
   "source": [
    "# TODO: Finish all steps here\n",
    "\n",
    "# Setting up the task_number\n",
    "task_number = 9\n",
    "\n",
    "dataset = result7\n",
    "\n",
    "# Find all duplicate occurences in SMILEs\n",
    "dataset[\"canonicalized tautomer\"] = dataset[\"SMILEs\"].apply(\n",
    "    handle_tautomers.canonicalize_tautomer\n",
    ")\n",
    "dataset.head()"
   ]
  },
  {
   "cell_type": "code",
   "execution_count": null,
   "metadata": {},
   "outputs": [],
   "source": [
    "dataset.tail()"
   ]
  },
  {
   "cell_type": "markdown",
   "metadata": {},
   "source": [
    "### Removal of duplicates"
   ]
  },
  {
   "cell_type": "code",
   "execution_count": null,
   "metadata": {},
   "outputs": [],
   "source": [
    "# TODO: Fine tune the output\n",
    "\n",
    "# Analysis/removal of duplicates\n",
    "\n",
    "# Setting up the task_number\n",
    "task_number = 10\n",
    "\n",
    "dataset = result7\n",
    "\n",
    "# Find all duplicate occurences in SMILEs\n",
    "dataset[\"duplicate?\"] = dataset.duplicated(subset=[\"SMILEs\"])\n",
    "\n",
    "# Filter the duplicates out\n",
    "failed_step_10 = dataset[dataset[\"duplicate?\"] == True]\n",
    "failed_step_10[\"Filtered_at\"] = failed_step_10[\"Filtered_at\"].apply(\n",
    "    lambda x, task_number=task_number: task_number\n",
    ")\n",
    "\n",
    "dataset = dataset[dataset[\"duplicate?\"] == False]\n",
    "failed_step_10.tail()"
   ]
  },
  {
   "cell_type": "code",
   "execution_count": null,
   "metadata": {},
   "outputs": [],
   "source": [
    "# Manual inspection\n",
    "\n",
    "# TODO: Create csv-exports for better readability of the subsets or jupyter notebook searchable tables"
   ]
  },
  {
   "cell_type": "code",
   "execution_count": null,
   "metadata": {},
   "outputs": [],
   "source": [
    "# Contatination of results for the end\n",
    "test = pd.concat([failed_step_1, failed_step_2])\n",
    "test = test.sort_values(by=[\"IDs\"])"
   ]
  },
  {
   "cell_type": "code",
   "execution_count": null,
   "metadata": {},
   "outputs": [],
   "source": [
    "test"
   ]
  },
  {
   "cell_type": "code",
   "execution_count": null,
   "metadata": {},
   "outputs": [],
   "source": [
    "test = convert_format.convert_smiles_to_mol(\"CCO[Zr](OCC)(OCC)OCC\")\n",
    "test = disconnect_metals(test)\n",
    "test = handle_charges.uncharge(test)\n",
    "test = remove_salts(test)\n",
    "# test = handle_fragments.choose_largest_fragment(test)\n",
    "test"
   ]
  },
  {
   "cell_type": "code",
   "execution_count": null,
   "metadata": {},
   "outputs": [],
   "source": []
  }
 ],
 "metadata": {
  "kernelspec": {
   "display_name": "Python 3",
   "language": "python",
   "name": "python3"
  },
  "language_info": {
   "codemirror_mode": {
    "name": "ipython",
    "version": 3
   },
   "file_extension": ".py",
   "mimetype": "text/x-python",
   "name": "python",
   "nbconvert_exporter": "python",
   "pygments_lexer": "ipython3",
   "version": "3.8.6"
  }
 },
 "nbformat": 4,
 "nbformat_minor": 4
}
