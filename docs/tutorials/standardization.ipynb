{
 "cells": [
  {
   "cell_type": "markdown",
   "metadata": {},
   "source": [
    "# Implementation and evaluation of a computational standardization pipeline for chemical compounds\n",
    "## Based on [\"Trust, But Verify: On the Importance of Chemical Structure Curation in Cheminformatics and QSAR Modeling Research\" from 2010 (D. Fourches, ...)\"](https://pubmed.ncbi.nlm.nih.gov/20572635/)\n"
   ]
  },
  {
   "cell_type": "markdown",
   "metadata": {},
   "source": [
    "### Introduction \n",
    "This notebook serves to showcase the functionality of the Standardization module. Following the recommended standardization steps of \"Trust, But Verify\"(D. Fourches, ..., 2010).\n",
    "This notebook uses the dataset of following paper: [Cheminformatics Analysis of Assertions Mined from Literature That Describe Drug-Induced Liver Injury in Different Species](https://pubs.acs.org/doi/10.1021/tx900326k)"
   ]
  },
  {
   "cell_type": "markdown",
   "metadata": {},
   "source": [
    "<span style='color:red'> For all relative paths in this notebook to work, please make sure you are starting this notebook from the working directory ./opencadd/docs/tutorials/  </span><br>\n",
    "Check your directory with the cell below."
   ]
  },
  {
   "cell_type": "code",
   "execution_count": 59,
   "metadata": {},
   "outputs": [
    {
     "data": {
      "text/plain": [
       "'/home/allen/dev/opencadd/docs/tutorials'"
      ]
     },
     "execution_count": 59,
     "metadata": {},
     "output_type": "execute_result"
    }
   ],
   "source": [
    "import os\n",
    "os.getcwd()"
   ]
  },
  {
   "cell_type": "code",
   "execution_count": 78,
   "metadata": {},
   "outputs": [],
   "source": [
    "#Import pandas and numpy\n",
    "import pandas as pd\n",
    "import numpy as np\n",
    "\n",
    "#import modules and Standardization API functions needed\n",
    "from rdkit import Chem\n",
    "from opencadd.compounds.standardization import convert_format,handle_fragments,disconnect_metals,detect_inorganic,remove_salts"
   ]
  },
  {
   "cell_type": "code",
   "execution_count": 79,
   "metadata": {},
   "outputs": [],
   "source": [
    "# Helper function to mark at which step the entry failed the standardization pipeline\n",
    "def failMarker(i):\n",
    "    i=taskNum\n",
    "    return i"
   ]
  },
  {
   "cell_type": "markdown",
   "metadata": {},
   "source": [
    "###  Step 0: Initial dataset import and cleaning\n",
    "------------------------------------------------\n",
    "The first step before the standardization steps are started is a import of the dataset as an Pandas Dataframe, only including the columns necessary. In this case we use the <b>IDs</b>, <b>Names</b> and <b>SMILEs</b> column.<br>\n",
    "Then we search for all entries which actually don't have any strings saved under <b>SMILEs</b> and kick them from the dataset, since they are not holding any information.<br>\n",
    "After the import we add a <b>Failed_at</b> column to track in which standardization step the entry failed. \n",
    "The intial `taskNum` will be 0, which leads to an default <b>Failed_at</b>-value of 0 for all entries. The <b>Failed_at</b>-value will be used to filter out all failed entries for the upcoming steps."
   ]
  },
  {
   "cell_type": "code",
   "execution_count": 119,
   "metadata": {},
   "outputs": [
    {
     "data": {
      "text/html": [
       "<div>\n",
       "<style scoped>\n",
       "    .dataframe tbody tr th:only-of-type {\n",
       "        vertical-align: middle;\n",
       "    }\n",
       "\n",
       "    .dataframe tbody tr th {\n",
       "        vertical-align: top;\n",
       "    }\n",
       "\n",
       "    .dataframe thead th {\n",
       "        text-align: right;\n",
       "    }\n",
       "</style>\n",
       "<table border=\"1\" class=\"dataframe\">\n",
       "  <thead>\n",
       "    <tr style=\"text-align: right;\">\n",
       "      <th></th>\n",
       "      <th>IDs</th>\n",
       "      <th>Names</th>\n",
       "      <th>SMILEs</th>\n",
       "      <th>Failed_at</th>\n",
       "    </tr>\n",
       "  </thead>\n",
       "  <tbody>\n",
       "    <tr>\n",
       "      <th>0</th>\n",
       "      <td>1</td>\n",
       "      <td>(R)-Roscovitine</td>\n",
       "      <td>CCC(CO)Nc1nc(NCc2ccccc2)c2ncn(C(C)C)c2n1.[Ca]</td>\n",
       "      <td>0</td>\n",
       "    </tr>\n",
       "    <tr>\n",
       "      <th>1</th>\n",
       "      <td>2</td>\n",
       "      <td>17-Methyltestosterone</td>\n",
       "      <td>CC1(O)CCC2C3CCC4=CC(=O)CCC4(C)C3CCC12C</td>\n",
       "      <td>0</td>\n",
       "    </tr>\n",
       "    <tr>\n",
       "      <th>2</th>\n",
       "      <td>3</td>\n",
       "      <td>1-alpha-Hydroxycholecalciferol</td>\n",
       "      <td>CC(C)CCCC(C)C1CCC2C(CCCC12C)=CC=C1CC(O)CC(O)C1=C</td>\n",
       "      <td>0</td>\n",
       "    </tr>\n",
       "    <tr>\n",
       "      <th>3</th>\n",
       "      <td>4</td>\n",
       "      <td>2,3-Dimercaptosuccinic acid</td>\n",
       "      <td>OC(=O)C(S)C(S)C(O)=O</td>\n",
       "      <td>0</td>\n",
       "    </tr>\n",
       "    <tr>\n",
       "      <th>4</th>\n",
       "      <td>5</td>\n",
       "      <td>2,4,6-Trinitrotoluene</td>\n",
       "      <td>Cc1c(cc(cc1N(=O)=O)N(=O)=O)N(=O)=O</td>\n",
       "      <td>0</td>\n",
       "    </tr>\n",
       "  </tbody>\n",
       "</table>\n",
       "</div>"
      ],
      "text/plain": [
       "   IDs                           Names  \\\n",
       "0    1                 (R)-Roscovitine   \n",
       "1    2           17-Methyltestosterone   \n",
       "2    3  1-alpha-Hydroxycholecalciferol   \n",
       "3    4     2,3-Dimercaptosuccinic acid   \n",
       "4    5           2,4,6-Trinitrotoluene   \n",
       "\n",
       "                                             SMILEs  Failed_at  \n",
       "0     CCC(CO)Nc1nc(NCc2ccccc2)c2ncn(C(C)C)c2n1.[Ca]          0  \n",
       "1            CC1(O)CCC2C3CCC4=CC(=O)CCC4(C)C3CCC12C          0  \n",
       "2  CC(C)CCCC(C)C1CCC2C(CCCC12C)=CC=C1CC(O)CC(O)C1=C          0  \n",
       "3                              OC(=O)C(S)C(S)C(O)=O          0  \n",
       "4                Cc1c(cc(cc1N(=O)=O)N(=O)=O)N(=O)=O          0  "
      ]
     },
     "execution_count": 119,
     "metadata": {},
     "output_type": "execute_result"
    }
   ],
   "source": [
    "taskNum = 0\n",
    "\n",
    "# Importing the test-dataset \n",
    "dataset = pd.read_csv (r'./data/standardization_test_data.csv')\n",
    "\n",
    "#Filter for needed columns\n",
    "dataset = dataset[['IDs','Names','SMILEs']]\n",
    "\n",
    "#Kick all empty entries\n",
    "#dataset = dataset[(dataset['SMILEs'].notna())]\n",
    "\n",
    "#Setting a initial score of 0 for all entries\n",
    "dataset['Failed_at'] = dataset['SMILEs'].notna().apply(failMarker)\n",
    "\n",
    "#Show the current form of the dataframe\n",
    "dataset.head()"
   ]
  },
  {
   "cell_type": "markdown",
   "metadata": {},
   "source": [
    "### Step 1: Conversion of SMILEs to mol\n",
    "------------------------------------------\n",
    "### Convert the SMILE representation format of the compounds into Mol-files\n",
    "\n",
    "RDKit performs a sanitization of the molecule by default. In this sanitization step RDKit tries to kekulize the mols (generates alternate Lewis structures). This step might fail, when the structure is aromatic, but no Hydrogen position is provided. TODO:!(This explanation might be a bit short and not fully correct, check this later again)!\n",
    "\n",
    "If the conversion from SMILE to mol fails, then those SMILEs will get a <b>Failed_at</b> marker added. \n",
    "\n",
    "To avoid the sanitization of the molecule `convert_smiles_to_mol` can be called with the argument `sanitize=False`. Keep in mind that the generation of different Lewis structures serves to find different representation formats of the same molecule. \n",
    "\n",
    "References:<br>\n",
    "https://chemistry.stackexchange.com/questions/116498/what-is-kekulization-in-rdkit<br>\n",
    "https://rdkit-discuss.narkive.com/QwnqcKcM/another-can-t-kekulize-mol-observation<br>\n",
    "https://www.rdkit.org/docs/Cookbook.html<br>\n",
    "https://www.rdkit.org/docs/source/rdkit.Chem.rdmolfiles.html<br>\n"
   ]
  },
  {
   "cell_type": "code",
   "execution_count": 125,
   "metadata": {},
   "outputs": [
    {
     "name": "stderr",
     "output_type": "stream",
     "text": [
      "RDKit ERROR: [12:20:19] Can't kekulize mol.  Unkekulized atoms: 1 2 3 4 5 7 9\n",
      "RDKit ERROR: \n",
      "RDKit ERROR: [12:20:19] Can't kekulize mol.  Unkekulized atoms: 2 3 4 6 7 8 10 11 12\n",
      "RDKit ERROR: \n",
      "RDKit ERROR: [12:20:19] Can't kekulize mol.  Unkekulized atoms: 6 8 10\n",
      "RDKit ERROR: \n",
      "RDKit ERROR: [12:20:19] Can't kekulize mol.  Unkekulized atoms: 7 8 9 10 11 12 13 14 15\n",
      "RDKit ERROR: \n",
      "RDKit ERROR: [12:20:19] Can't kekulize mol.  Unkekulized atoms: 57 58 60\n",
      "RDKit ERROR: \n",
      "RDKit ERROR: [12:20:19] Can't kekulize mol.  Unkekulized atoms: 14 15 16 17 18 19 20 21 23\n",
      "RDKit ERROR: \n",
      "RDKit ERROR: [12:20:19] Can't kekulize mol.  Unkekulized atoms: 11 12 13 15 16 17 19 20 21\n",
      "RDKit ERROR: \n"
     ]
    },
    {
     "data": {
      "text/html": [
       "<div>\n",
       "<style scoped>\n",
       "    .dataframe tbody tr th:only-of-type {\n",
       "        vertical-align: middle;\n",
       "    }\n",
       "\n",
       "    .dataframe tbody tr th {\n",
       "        vertical-align: top;\n",
       "    }\n",
       "\n",
       "    .dataframe thead th {\n",
       "        text-align: right;\n",
       "    }\n",
       "</style>\n",
       "<table border=\"1\" class=\"dataframe\">\n",
       "  <thead>\n",
       "    <tr style=\"text-align: right;\">\n",
       "      <th></th>\n",
       "      <th>IDs</th>\n",
       "      <th>Names</th>\n",
       "      <th>SMILEs</th>\n",
       "      <th>Failed_at</th>\n",
       "      <th>mol</th>\n",
       "    </tr>\n",
       "  </thead>\n",
       "  <tbody>\n",
       "    <tr>\n",
       "      <th>0</th>\n",
       "      <td>1</td>\n",
       "      <td>(R)-Roscovitine</td>\n",
       "      <td>CCC(CO)Nc1nc(NCc2ccccc2)c2ncn(C(C)C)c2n1.[Ca]</td>\n",
       "      <td>0</td>\n",
       "      <td>&lt;rdkit.Chem.rdchem.Mol object at 0x7f05e4c55b20&gt;</td>\n",
       "    </tr>\n",
       "    <tr>\n",
       "      <th>1</th>\n",
       "      <td>2</td>\n",
       "      <td>17-Methyltestosterone</td>\n",
       "      <td>CC1(O)CCC2C3CCC4=CC(=O)CCC4(C)C3CCC12C</td>\n",
       "      <td>0</td>\n",
       "      <td>&lt;rdkit.Chem.rdchem.Mol object at 0x7f05e4c3c1c0&gt;</td>\n",
       "    </tr>\n",
       "    <tr>\n",
       "      <th>2</th>\n",
       "      <td>3</td>\n",
       "      <td>1-alpha-Hydroxycholecalciferol</td>\n",
       "      <td>CC(C)CCCC(C)C1CCC2C(CCCC12C)=CC=C1CC(O)CC(O)C1=C</td>\n",
       "      <td>0</td>\n",
       "      <td>&lt;rdkit.Chem.rdchem.Mol object at 0x7f05e4c3c080&gt;</td>\n",
       "    </tr>\n",
       "    <tr>\n",
       "      <th>3</th>\n",
       "      <td>4</td>\n",
       "      <td>2,3-Dimercaptosuccinic acid</td>\n",
       "      <td>OC(=O)C(S)C(S)C(O)=O</td>\n",
       "      <td>0</td>\n",
       "      <td>&lt;rdkit.Chem.rdchem.Mol object at 0x7f05e4c3c350&gt;</td>\n",
       "    </tr>\n",
       "    <tr>\n",
       "      <th>4</th>\n",
       "      <td>5</td>\n",
       "      <td>2,4,6-Trinitrotoluene</td>\n",
       "      <td>Cc1c(cc(cc1N(=O)=O)N(=O)=O)N(=O)=O</td>\n",
       "      <td>0</td>\n",
       "      <td>&lt;rdkit.Chem.rdchem.Mol object at 0x7f05e4c3c300&gt;</td>\n",
       "    </tr>\n",
       "    <tr>\n",
       "      <th>5</th>\n",
       "      <td>6</td>\n",
       "      <td>2-Deoxy-D-glucose</td>\n",
       "      <td>OCC1OC(O)CC(O)C1O</td>\n",
       "      <td>0</td>\n",
       "      <td>&lt;rdkit.Chem.rdchem.Mol object at 0x7f05e4c7c0d0&gt;</td>\n",
       "    </tr>\n",
       "    <tr>\n",
       "      <th>6</th>\n",
       "      <td>7</td>\n",
       "      <td>2'-fluoro-5-methylarabinosyluracil</td>\n",
       "      <td>CC1=CN(C2OC(CO)C(O)C2F)C(=O)NC1=O</td>\n",
       "      <td>0</td>\n",
       "      <td>&lt;rdkit.Chem.rdchem.Mol object at 0x7f05e4c35030&gt;</td>\n",
       "    </tr>\n",
       "    <tr>\n",
       "      <th>7</th>\n",
       "      <td>8</td>\n",
       "      <td>2-Methoxyestradiol</td>\n",
       "      <td>COc1cc2C3CCC4(C)C(O)CCC4C3CCc2cc1O</td>\n",
       "      <td>0</td>\n",
       "      <td>&lt;rdkit.Chem.rdchem.Mol object at 0x7f05e4c355d0&gt;</td>\n",
       "    </tr>\n",
       "    <tr>\n",
       "      <th>8</th>\n",
       "      <td>9</td>\n",
       "      <td>4-aminobenzoic acid</td>\n",
       "      <td>Nc1ccc(cc1)C(O)=O</td>\n",
       "      <td>0</td>\n",
       "      <td>&lt;rdkit.Chem.rdchem.Mol object at 0x7f05e4c357b0&gt;</td>\n",
       "    </tr>\n",
       "    <tr>\n",
       "      <th>9</th>\n",
       "      <td>10</td>\n",
       "      <td>4-Hydroxytamoxifen</td>\n",
       "      <td>CCC(c1ccccc1)=C(c1ccc(O)cc1)c1ccc(OCCN(C)C)cc1</td>\n",
       "      <td>0</td>\n",
       "      <td>&lt;rdkit.Chem.rdchem.Mol object at 0x7f05e4c35800&gt;</td>\n",
       "    </tr>\n",
       "    <tr>\n",
       "      <th>10</th>\n",
       "      <td>11</td>\n",
       "      <td>5 fluorouracil</td>\n",
       "      <td>FC1=CNC(=O)NC1=O</td>\n",
       "      <td>0</td>\n",
       "      <td>&lt;rdkit.Chem.rdchem.Mol object at 0x7f05e4c35b70&gt;</td>\n",
       "    </tr>\n",
       "    <tr>\n",
       "      <th>11</th>\n",
       "      <td>12</td>\n",
       "      <td>5-Azacitidine</td>\n",
       "      <td>NC1=NC(=O)N(C=N1)C1OC(CO)C(O)C1O</td>\n",
       "      <td>0</td>\n",
       "      <td>&lt;rdkit.Chem.rdchem.Mol object at 0x7f05e4c35530&gt;</td>\n",
       "    </tr>\n",
       "    <tr>\n",
       "      <th>12</th>\n",
       "      <td>13</td>\n",
       "      <td>5-Bromouracil</td>\n",
       "      <td>OCC1OC(CC1O)N1C=C(Br)C(=O)NC1=O</td>\n",
       "      <td>0</td>\n",
       "      <td>&lt;rdkit.Chem.rdchem.Mol object at 0x7f05e4c35a30&gt;</td>\n",
       "    </tr>\n",
       "    <tr>\n",
       "      <th>13</th>\n",
       "      <td>14</td>\n",
       "      <td>5-fluoro-2'-deoxyuridine</td>\n",
       "      <td>OCC1OC(CC1O)N1C=C(F)C(=O)NC1=O</td>\n",
       "      <td>0</td>\n",
       "      <td>&lt;rdkit.Chem.rdchem.Mol object at 0x7f05e4c35210&gt;</td>\n",
       "    </tr>\n",
       "    <tr>\n",
       "      <th>14</th>\n",
       "      <td>15</td>\n",
       "      <td>6-Mercaptopurine</td>\n",
       "      <td>Sc1ncnc2[nH]c[nH]c12</td>\n",
       "      <td>1</td>\n",
       "      <td>None</td>\n",
       "    </tr>\n",
       "    <tr>\n",
       "      <th>15</th>\n",
       "      <td>16</td>\n",
       "      <td>Acadesine</td>\n",
       "      <td>NC(=O)c1ncn(C2OC(CO)C(O)C2O)c1N</td>\n",
       "      <td>0</td>\n",
       "      <td>&lt;rdkit.Chem.rdchem.Mol object at 0x7f05e4c35990&gt;</td>\n",
       "    </tr>\n",
       "  </tbody>\n",
       "</table>\n",
       "</div>"
      ],
      "text/plain": [
       "    IDs                               Names  \\\n",
       "0     1                     (R)-Roscovitine   \n",
       "1     2               17-Methyltestosterone   \n",
       "2     3      1-alpha-Hydroxycholecalciferol   \n",
       "3     4         2,3-Dimercaptosuccinic acid   \n",
       "4     5               2,4,6-Trinitrotoluene   \n",
       "5     6                   2-Deoxy-D-glucose   \n",
       "6     7  2'-fluoro-5-methylarabinosyluracil   \n",
       "7     8                  2-Methoxyestradiol   \n",
       "8     9                 4-aminobenzoic acid   \n",
       "9    10                  4-Hydroxytamoxifen   \n",
       "10   11                      5 fluorouracil   \n",
       "11   12                       5-Azacitidine   \n",
       "12   13                       5-Bromouracil   \n",
       "13   14            5-fluoro-2'-deoxyuridine   \n",
       "14   15                    6-Mercaptopurine   \n",
       "15   16                           Acadesine   \n",
       "\n",
       "                                              SMILEs  Failed_at  \\\n",
       "0      CCC(CO)Nc1nc(NCc2ccccc2)c2ncn(C(C)C)c2n1.[Ca]          0   \n",
       "1             CC1(O)CCC2C3CCC4=CC(=O)CCC4(C)C3CCC12C          0   \n",
       "2   CC(C)CCCC(C)C1CCC2C(CCCC12C)=CC=C1CC(O)CC(O)C1=C          0   \n",
       "3                               OC(=O)C(S)C(S)C(O)=O          0   \n",
       "4                 Cc1c(cc(cc1N(=O)=O)N(=O)=O)N(=O)=O          0   \n",
       "5                                  OCC1OC(O)CC(O)C1O          0   \n",
       "6                  CC1=CN(C2OC(CO)C(O)C2F)C(=O)NC1=O          0   \n",
       "7                 COc1cc2C3CCC4(C)C(O)CCC4C3CCc2cc1O          0   \n",
       "8                                  Nc1ccc(cc1)C(O)=O          0   \n",
       "9     CCC(c1ccccc1)=C(c1ccc(O)cc1)c1ccc(OCCN(C)C)cc1          0   \n",
       "10                                  FC1=CNC(=O)NC1=O          0   \n",
       "11                  NC1=NC(=O)N(C=N1)C1OC(CO)C(O)C1O          0   \n",
       "12                   OCC1OC(CC1O)N1C=C(Br)C(=O)NC1=O          0   \n",
       "13                    OCC1OC(CC1O)N1C=C(F)C(=O)NC1=O          0   \n",
       "14                              Sc1ncnc2[nH]c[nH]c12          1   \n",
       "15                   NC(=O)c1ncn(C2OC(CO)C(O)C2O)c1N          0   \n",
       "\n",
       "                                                 mol  \n",
       "0   <rdkit.Chem.rdchem.Mol object at 0x7f05e4c55b20>  \n",
       "1   <rdkit.Chem.rdchem.Mol object at 0x7f05e4c3c1c0>  \n",
       "2   <rdkit.Chem.rdchem.Mol object at 0x7f05e4c3c080>  \n",
       "3   <rdkit.Chem.rdchem.Mol object at 0x7f05e4c3c350>  \n",
       "4   <rdkit.Chem.rdchem.Mol object at 0x7f05e4c3c300>  \n",
       "5   <rdkit.Chem.rdchem.Mol object at 0x7f05e4c7c0d0>  \n",
       "6   <rdkit.Chem.rdchem.Mol object at 0x7f05e4c35030>  \n",
       "7   <rdkit.Chem.rdchem.Mol object at 0x7f05e4c355d0>  \n",
       "8   <rdkit.Chem.rdchem.Mol object at 0x7f05e4c357b0>  \n",
       "9   <rdkit.Chem.rdchem.Mol object at 0x7f05e4c35800>  \n",
       "10  <rdkit.Chem.rdchem.Mol object at 0x7f05e4c35b70>  \n",
       "11  <rdkit.Chem.rdchem.Mol object at 0x7f05e4c35530>  \n",
       "12  <rdkit.Chem.rdchem.Mol object at 0x7f05e4c35a30>  \n",
       "13  <rdkit.Chem.rdchem.Mol object at 0x7f05e4c35210>  \n",
       "14                                              None  \n",
       "15  <rdkit.Chem.rdchem.Mol object at 0x7f05e4c35990>  "
      ]
     },
     "execution_count": 125,
     "metadata": {},
     "output_type": "execute_result"
    }
   ],
   "source": [
    "# We set up the taskNum \n",
    "taskNum = 1\n",
    "\n",
    "# A column called mol is beeing added to the dataframe to store the mol-files\n",
    "# The action is only applied to entries with a score of 0\n",
    "dataset['mol'] = np.where(dataset['Failed_at']==0,dataset['SMILEs'].apply(convert_format.convert_smiles_to_mol),None)\n",
    "\n",
    "# Checking for SMILEs, where no mol could be generated. Marking them with the failMarker\n",
    "dataset['Failed_at'] = np.where(dataset['mol'].isnull(),dataset['Failed_at'].apply(failMarker),dataset['Failed_at'] )\n",
    "\n",
    "# See how the entry in row 14 has a Failed_at value of 1.\n",
    "dataset.head(16)\n"
   ]
  },
  {
   "cell_type": "markdown",
   "metadata": {},
   "source": [
    "### Step 2: Removal of Inorganics and Mixtures\n",
    "--------------------------------------------------\n",
    "\n",
    "Since molecular descriptors can only be computed for organic compunds, all inorganic compunds must be removed before the descriptors are calculated. (Chapter 2.1. Fourches 2010)\n",
    "\n",
    "For the flagging and following removal of compounds containing inorganic molecules, we can use the function `detect_inorganic`. This function returns a boolean value of \"True\" when it finds a inorganic molecule. We can run this flagging in a pre-processing step of the data, and discard those compounds. \n",
    "\"Inorganic compounds are known to have biological effects, like for example toxic effects.\"(Chapter 2.1. Fourches 2010)(fix citation)\n",
    " Due to their potential bioactivity we can not distinguish if the recored activity of a mixed compound is caused by it's organic or inorganic part. Therefore the entry is useless and can be discarded. ! THIS SHOULD BE LOGGED AND MANUAL CURATION SHOULD BE ENABLED !\n",
    "An alternate and easy way would be that every SMILES  is undertaken a substring search, where a match of a inorganic compound pattern (search pattern set should be defined) would be  flagged.\n",
    "\n",
    "Due to the fact, that the treatment is not as simple as it apprears the paper (Fourches, 2010) recommends to delete records containing mixtures. ! THIS AGAIN CAN BE LOGGED AND MANUAL CURATION CAN BE DONE WITH THIS SET ! The ease up the curation various filtering functions can be implemented to help decide which to keep and which to discard. Three types of mixtures are described. ! CHECK IF IMPLEMENTATION WOULD BE POSSIBLE EASY AND FAST ! Common and widely used practice is to retain molecules with the highest molecular weight or the largest number of atoms(Chapter 2.1. Fourches 2010), but the paper (Fourches, 2010) states this might not be the best solution, and further investigation in mixtures should only be done if there is a reason to belive that the biological activity is really caused by the largest molecule and not the mixture itself.\n",
    "\n",
    "Those actions might be performed, before the entered SMILES are beeing converted into mol-files. Some described steps are related to string pattern searches."
   ]
  },
  {
   "cell_type": "code",
   "execution_count": 127,
   "metadata": {},
   "outputs": [
    {
     "ename": "AttributeError",
     "evalue": "'NoneType' object has no attribute 'GetSubstructMatch'",
     "output_type": "error",
     "traceback": [
      "\u001b[0;31m---------------------------------------------------------------------------\u001b[0m",
      "\u001b[0;31mAttributeError\u001b[0m                            Traceback (most recent call last)",
      "\u001b[0;32m<ipython-input-127-9963789ed3b2>\u001b[0m in \u001b[0;36m<module>\u001b[0;34m\u001b[0m\n\u001b[1;32m      5\u001b[0m \u001b[0;31m#dataset['mol'] = np.where(dataset['Failed_at']==0,dataset['SMILEs'].apply(convert_format.convert_smiles_to_mol),None)\u001b[0m\u001b[0;34m\u001b[0m\u001b[0;34m\u001b[0m\u001b[0;34m\u001b[0m\u001b[0m\n\u001b[1;32m      6\u001b[0m \u001b[0;34m\u001b[0m\u001b[0m\n\u001b[0;32m----> 7\u001b[0;31m \u001b[0mdataset\u001b[0m\u001b[0;34m[\u001b[0m\u001b[0mtaskNum\u001b[0m\u001b[0;34m]\u001b[0m \u001b[0;34m=\u001b[0m \u001b[0mnp\u001b[0m\u001b[0;34m.\u001b[0m\u001b[0mwhere\u001b[0m\u001b[0;34m(\u001b[0m\u001b[0mdataset\u001b[0m\u001b[0;34m[\u001b[0m\u001b[0;34m'Failed_at'\u001b[0m\u001b[0;34m]\u001b[0m\u001b[0;34m==\u001b[0m\u001b[0;36m0\u001b[0m\u001b[0;34m,\u001b[0m\u001b[0mdataset\u001b[0m\u001b[0;34m[\u001b[0m\u001b[0;34m'mol'\u001b[0m\u001b[0;34m]\u001b[0m\u001b[0;34m.\u001b[0m\u001b[0mapply\u001b[0m\u001b[0;34m(\u001b[0m\u001b[0mdetect_inorganic\u001b[0m\u001b[0;34m)\u001b[0m\u001b[0;34m,\u001b[0m\u001b[0;32mNone\u001b[0m\u001b[0;34m)\u001b[0m\u001b[0;34m\u001b[0m\u001b[0;34m\u001b[0m\u001b[0m\n\u001b[0m\u001b[1;32m      8\u001b[0m \u001b[0;34m\u001b[0m\u001b[0m\n\u001b[1;32m      9\u001b[0m \u001b[0;31m#work_dataset[taskNum] = work_dataset['mol'].apply(detect_inorganic)\u001b[0m\u001b[0;34m\u001b[0m\u001b[0;34m\u001b[0m\u001b[0;34m\u001b[0m\u001b[0m\n",
      "\u001b[0;32m~/anaconda3/envs/test/lib/python3.8/site-packages/pandas/core/series.py\u001b[0m in \u001b[0;36mapply\u001b[0;34m(self, func, convert_dtype, args, **kwds)\u001b[0m\n\u001b[1;32m   4133\u001b[0m             \u001b[0;32melse\u001b[0m\u001b[0;34m:\u001b[0m\u001b[0;34m\u001b[0m\u001b[0;34m\u001b[0m\u001b[0m\n\u001b[1;32m   4134\u001b[0m                 \u001b[0mvalues\u001b[0m \u001b[0;34m=\u001b[0m \u001b[0mself\u001b[0m\u001b[0;34m.\u001b[0m\u001b[0mastype\u001b[0m\u001b[0;34m(\u001b[0m\u001b[0mobject\u001b[0m\u001b[0;34m)\u001b[0m\u001b[0;34m.\u001b[0m\u001b[0m_values\u001b[0m\u001b[0;34m\u001b[0m\u001b[0;34m\u001b[0m\u001b[0m\n\u001b[0;32m-> 4135\u001b[0;31m                 \u001b[0mmapped\u001b[0m \u001b[0;34m=\u001b[0m \u001b[0mlib\u001b[0m\u001b[0;34m.\u001b[0m\u001b[0mmap_infer\u001b[0m\u001b[0;34m(\u001b[0m\u001b[0mvalues\u001b[0m\u001b[0;34m,\u001b[0m \u001b[0mf\u001b[0m\u001b[0;34m,\u001b[0m \u001b[0mconvert\u001b[0m\u001b[0;34m=\u001b[0m\u001b[0mconvert_dtype\u001b[0m\u001b[0;34m)\u001b[0m\u001b[0;34m\u001b[0m\u001b[0;34m\u001b[0m\u001b[0m\n\u001b[0m\u001b[1;32m   4136\u001b[0m \u001b[0;34m\u001b[0m\u001b[0m\n\u001b[1;32m   4137\u001b[0m         \u001b[0;32mif\u001b[0m \u001b[0mlen\u001b[0m\u001b[0;34m(\u001b[0m\u001b[0mmapped\u001b[0m\u001b[0;34m)\u001b[0m \u001b[0;32mand\u001b[0m \u001b[0misinstance\u001b[0m\u001b[0;34m(\u001b[0m\u001b[0mmapped\u001b[0m\u001b[0;34m[\u001b[0m\u001b[0;36m0\u001b[0m\u001b[0;34m]\u001b[0m\u001b[0;34m,\u001b[0m \u001b[0mSeries\u001b[0m\u001b[0;34m)\u001b[0m\u001b[0;34m:\u001b[0m\u001b[0;34m\u001b[0m\u001b[0;34m\u001b[0m\u001b[0m\n",
      "\u001b[0;32mpandas/_libs/lib.pyx\u001b[0m in \u001b[0;36mpandas._libs.lib.map_infer\u001b[0;34m()\u001b[0m\n",
      "\u001b[0;32m~/dev/opencadd/opencadd/compounds/standardization/detect_inorganic.py\u001b[0m in \u001b[0;36mdetect_inorganic\u001b[0;34m(mol, *args, **kwargs)\u001b[0m\n\u001b[1;32m     38\u001b[0m \u001b[0;34m\u001b[0m\u001b[0m\n\u001b[1;32m     39\u001b[0m     \"\"\"\n\u001b[0;32m---> 40\u001b[0;31m     \u001b[0;32mif\u001b[0m \u001b[0mmol\u001b[0m\u001b[0;34m.\u001b[0m\u001b[0mGetSubstructMatch\u001b[0m\u001b[0;34m(\u001b[0m\u001b[0minorganic_elements\u001b[0m\u001b[0;34m,\u001b[0m \u001b[0;34m*\u001b[0m\u001b[0margs\u001b[0m\u001b[0;34m,\u001b[0m \u001b[0;34m**\u001b[0m\u001b[0mkwargs\u001b[0m\u001b[0;34m)\u001b[0m\u001b[0;34m:\u001b[0m\u001b[0;34m\u001b[0m\u001b[0;34m\u001b[0m\u001b[0m\n\u001b[0m\u001b[1;32m     41\u001b[0m         \u001b[0mlogging\u001b[0m\u001b[0;34m.\u001b[0m\u001b[0mdebug\u001b[0m\u001b[0;34m(\u001b[0m\u001b[0;34m\"Structure contains a inorganic element\"\u001b[0m\u001b[0;34m)\u001b[0m\u001b[0;34m\u001b[0m\u001b[0;34m\u001b[0m\u001b[0m\n\u001b[1;32m     42\u001b[0m         \u001b[0;32mreturn\u001b[0m \u001b[0;32mTrue\u001b[0m\u001b[0;34m\u001b[0m\u001b[0;34m\u001b[0m\u001b[0m\n",
      "\u001b[0;31mAttributeError\u001b[0m: 'NoneType' object has no attribute 'GetSubstructMatch'"
     ]
    }
   ],
   "source": [
    "# Setting up the taskNum \n",
    "taskNum = 2\n",
    "\n",
    "# Check for inorganic structures in the entries\n",
    "#dataset['mol'] = np.where(dataset['Failed_at']==0,dataset['SMILEs'].apply(convert_format.convert_smiles_to_mol),None)\n",
    "\n",
    "dataset[taskNum] = np.where(dataset['Failed_at']==0,dataset['mol'].apply(detect_inorganic),None)\n",
    "\n",
    "#work_dataset[taskNum] = work_dataset['mol'].apply(detect_inorganic)\n",
    "#contains_inorganics = work_dataset[work_dataset[taskNum]== True]\n",
    "#dataset['Failed_at'] = np.where(dataset['SMILEs'] == contains_inorganics[\"SMILEs\"],dataset['Failed_at'].apply(failMarker),dataset['Failed_at'] )\n",
    "#dataset[dataset[taskNum] == True]\n",
    "dataset.head"
   ]
  },
  {
   "cell_type": "code",
   "execution_count": 27,
   "metadata": {},
   "outputs": [
    {
     "ename": "KeyError",
     "evalue": "'Failed_at'",
     "output_type": "error",
     "traceback": [
      "\u001b[0;31m---------------------------------------------------------------------------\u001b[0m",
      "\u001b[0;31mKeyError\u001b[0m                                  Traceback (most recent call last)",
      "\u001b[0;32m~/anaconda3/envs/test/lib/python3.8/site-packages/pandas/core/indexes/base.py\u001b[0m in \u001b[0;36mget_loc\u001b[0;34m(self, key, method, tolerance)\u001b[0m\n\u001b[1;32m   3079\u001b[0m             \u001b[0;32mtry\u001b[0m\u001b[0;34m:\u001b[0m\u001b[0;34m\u001b[0m\u001b[0;34m\u001b[0m\u001b[0m\n\u001b[0;32m-> 3080\u001b[0;31m                 \u001b[0;32mreturn\u001b[0m \u001b[0mself\u001b[0m\u001b[0;34m.\u001b[0m\u001b[0m_engine\u001b[0m\u001b[0;34m.\u001b[0m\u001b[0mget_loc\u001b[0m\u001b[0;34m(\u001b[0m\u001b[0mcasted_key\u001b[0m\u001b[0;34m)\u001b[0m\u001b[0;34m\u001b[0m\u001b[0;34m\u001b[0m\u001b[0m\n\u001b[0m\u001b[1;32m   3081\u001b[0m             \u001b[0;32mexcept\u001b[0m \u001b[0mKeyError\u001b[0m \u001b[0;32mas\u001b[0m \u001b[0merr\u001b[0m\u001b[0;34m:\u001b[0m\u001b[0;34m\u001b[0m\u001b[0;34m\u001b[0m\u001b[0m\n",
      "\u001b[0;32mpandas/_libs/index.pyx\u001b[0m in \u001b[0;36mpandas._libs.index.IndexEngine.get_loc\u001b[0;34m()\u001b[0m\n",
      "\u001b[0;32mpandas/_libs/index.pyx\u001b[0m in \u001b[0;36mpandas._libs.index.IndexEngine.get_loc\u001b[0;34m()\u001b[0m\n",
      "\u001b[0;32mpandas/_libs/hashtable_class_helper.pxi\u001b[0m in \u001b[0;36mpandas._libs.hashtable.PyObjectHashTable.get_item\u001b[0;34m()\u001b[0m\n",
      "\u001b[0;32mpandas/_libs/hashtable_class_helper.pxi\u001b[0m in \u001b[0;36mpandas._libs.hashtable.PyObjectHashTable.get_item\u001b[0;34m()\u001b[0m\n",
      "\u001b[0;31mKeyError\u001b[0m: 'Failed_at'",
      "\nThe above exception was the direct cause of the following exception:\n",
      "\u001b[0;31mKeyError\u001b[0m                                  Traceback (most recent call last)",
      "\u001b[0;32m<ipython-input-27-42a3fc6659eb>\u001b[0m in \u001b[0;36m<module>\u001b[0;34m\u001b[0m\n\u001b[1;32m      1\u001b[0m \u001b[0;31m# Removal of inorganics and mixtures of the dataset\u001b[0m\u001b[0;34m\u001b[0m\u001b[0;34m\u001b[0m\u001b[0;34m\u001b[0m\u001b[0m\n\u001b[0;32m----> 2\u001b[0;31m \u001b[0mdataset\u001b[0m \u001b[0;34m=\u001b[0m  \u001b[0mdataset\u001b[0m\u001b[0;34m[\u001b[0m\u001b[0;34m(\u001b[0m\u001b[0mdataset\u001b[0m\u001b[0;34m[\u001b[0m\u001b[0;34m'Failed_at'\u001b[0m\u001b[0;34m]\u001b[0m\u001b[0;34m==\u001b[0m\u001b[0;36m0\u001b[0m\u001b[0;34m)\u001b[0m\u001b[0;34m]\u001b[0m\u001b[0;34m\u001b[0m\u001b[0;34m\u001b[0m\u001b[0m\n\u001b[0m\u001b[1;32m      3\u001b[0m \u001b[0mdataset\u001b[0m \u001b[0;34m=\u001b[0m \u001b[0mdataset\u001b[0m\u001b[0;34m[\u001b[0m\u001b[0;34m[\u001b[0m\u001b[0;34m\"Names\"\u001b[0m\u001b[0;34m,\u001b[0m\u001b[0;34m\"SMILEs\"\u001b[0m\u001b[0;34m,\u001b[0m\u001b[0;34m\"mol\"\u001b[0m\u001b[0;34m]\u001b[0m\u001b[0;34m]\u001b[0m\u001b[0;34m\u001b[0m\u001b[0;34m\u001b[0m\u001b[0m\n\u001b[1;32m      4\u001b[0m \u001b[0mdataset\u001b[0m\u001b[0;34m[\u001b[0m\u001b[0;34m'Inorganics'\u001b[0m\u001b[0;34m]\u001b[0m \u001b[0;34m=\u001b[0m \u001b[0mdataset\u001b[0m\u001b[0;34m[\u001b[0m\u001b[0;34m'mol'\u001b[0m\u001b[0;34m]\u001b[0m\u001b[0;34m.\u001b[0m\u001b[0mapply\u001b[0m\u001b[0;34m(\u001b[0m\u001b[0mdetect_inorganic\u001b[0m\u001b[0;34m)\u001b[0m\u001b[0;34m\u001b[0m\u001b[0;34m\u001b[0m\u001b[0m\n\u001b[1;32m      5\u001b[0m \u001b[0mdataset\u001b[0m\u001b[0;34m.\u001b[0m\u001b[0mto_csv\u001b[0m\u001b[0;34m(\u001b[0m\u001b[0;34m'/home/allen/dev/utility/data/test_dataset_bool_inorganic.csv'\u001b[0m\u001b[0;34m,\u001b[0m \u001b[0mindex\u001b[0m \u001b[0;34m=\u001b[0m \u001b[0;32mFalse\u001b[0m\u001b[0;34m)\u001b[0m\u001b[0;34m\u001b[0m\u001b[0;34m\u001b[0m\u001b[0m\n",
      "\u001b[0;32m~/anaconda3/envs/test/lib/python3.8/site-packages/pandas/core/frame.py\u001b[0m in \u001b[0;36m__getitem__\u001b[0;34m(self, key)\u001b[0m\n\u001b[1;32m   3022\u001b[0m             \u001b[0;32mif\u001b[0m \u001b[0mself\u001b[0m\u001b[0;34m.\u001b[0m\u001b[0mcolumns\u001b[0m\u001b[0;34m.\u001b[0m\u001b[0mnlevels\u001b[0m \u001b[0;34m>\u001b[0m \u001b[0;36m1\u001b[0m\u001b[0;34m:\u001b[0m\u001b[0;34m\u001b[0m\u001b[0;34m\u001b[0m\u001b[0m\n\u001b[1;32m   3023\u001b[0m                 \u001b[0;32mreturn\u001b[0m \u001b[0mself\u001b[0m\u001b[0;34m.\u001b[0m\u001b[0m_getitem_multilevel\u001b[0m\u001b[0;34m(\u001b[0m\u001b[0mkey\u001b[0m\u001b[0;34m)\u001b[0m\u001b[0;34m\u001b[0m\u001b[0;34m\u001b[0m\u001b[0m\n\u001b[0;32m-> 3024\u001b[0;31m             \u001b[0mindexer\u001b[0m \u001b[0;34m=\u001b[0m \u001b[0mself\u001b[0m\u001b[0;34m.\u001b[0m\u001b[0mcolumns\u001b[0m\u001b[0;34m.\u001b[0m\u001b[0mget_loc\u001b[0m\u001b[0;34m(\u001b[0m\u001b[0mkey\u001b[0m\u001b[0;34m)\u001b[0m\u001b[0;34m\u001b[0m\u001b[0;34m\u001b[0m\u001b[0m\n\u001b[0m\u001b[1;32m   3025\u001b[0m             \u001b[0;32mif\u001b[0m \u001b[0mis_integer\u001b[0m\u001b[0;34m(\u001b[0m\u001b[0mindexer\u001b[0m\u001b[0;34m)\u001b[0m\u001b[0;34m:\u001b[0m\u001b[0;34m\u001b[0m\u001b[0;34m\u001b[0m\u001b[0m\n\u001b[1;32m   3026\u001b[0m                 \u001b[0mindexer\u001b[0m \u001b[0;34m=\u001b[0m \u001b[0;34m[\u001b[0m\u001b[0mindexer\u001b[0m\u001b[0;34m]\u001b[0m\u001b[0;34m\u001b[0m\u001b[0;34m\u001b[0m\u001b[0m\n",
      "\u001b[0;32m~/anaconda3/envs/test/lib/python3.8/site-packages/pandas/core/indexes/base.py\u001b[0m in \u001b[0;36mget_loc\u001b[0;34m(self, key, method, tolerance)\u001b[0m\n\u001b[1;32m   3080\u001b[0m                 \u001b[0;32mreturn\u001b[0m \u001b[0mself\u001b[0m\u001b[0;34m.\u001b[0m\u001b[0m_engine\u001b[0m\u001b[0;34m.\u001b[0m\u001b[0mget_loc\u001b[0m\u001b[0;34m(\u001b[0m\u001b[0mcasted_key\u001b[0m\u001b[0;34m)\u001b[0m\u001b[0;34m\u001b[0m\u001b[0;34m\u001b[0m\u001b[0m\n\u001b[1;32m   3081\u001b[0m             \u001b[0;32mexcept\u001b[0m \u001b[0mKeyError\u001b[0m \u001b[0;32mas\u001b[0m \u001b[0merr\u001b[0m\u001b[0;34m:\u001b[0m\u001b[0;34m\u001b[0m\u001b[0;34m\u001b[0m\u001b[0m\n\u001b[0;32m-> 3082\u001b[0;31m                 \u001b[0;32mraise\u001b[0m \u001b[0mKeyError\u001b[0m\u001b[0;34m(\u001b[0m\u001b[0mkey\u001b[0m\u001b[0;34m)\u001b[0m \u001b[0;32mfrom\u001b[0m \u001b[0merr\u001b[0m\u001b[0;34m\u001b[0m\u001b[0;34m\u001b[0m\u001b[0m\n\u001b[0m\u001b[1;32m   3083\u001b[0m \u001b[0;34m\u001b[0m\u001b[0m\n\u001b[1;32m   3084\u001b[0m         \u001b[0;32mif\u001b[0m \u001b[0mtolerance\u001b[0m \u001b[0;32mis\u001b[0m \u001b[0;32mnot\u001b[0m \u001b[0;32mNone\u001b[0m\u001b[0;34m:\u001b[0m\u001b[0;34m\u001b[0m\u001b[0;34m\u001b[0m\u001b[0m\n",
      "\u001b[0;31mKeyError\u001b[0m: 'Failed_at'"
     ]
    }
   ],
   "source": [
    "# Removal of inorganics and mixtures of the dataset\n",
    "dataset =  dataset[(dataset['Failed_at']==0)]\n",
    "dataset = dataset[[\"Names\",\"SMILEs\",\"mol\"]]\n",
    "dataset['Inorganics'] = dataset['mol'].apply(detect_inorganic)\n",
    "dataset.to_csv('/home/allen/dev/utility/data/test_dataset_bool_inorganic.csv', index = False)\n",
    "contains_inorganics = dataset[dataset['Inorganics']== True]\n",
    "contains_inorganics.head()\n",
    "dataset = dataset[dataset['Inorganics']== False]\n",
    "dataset = dataset[[\"Names\",\"SMILEs\",\"mol\"]]\n",
    "dataset.head()"
   ]
  },
  {
   "cell_type": "code",
   "execution_count": null,
   "metadata": {},
   "outputs": [],
   "source": [
    "#  Removal of mixtures, inorganics (and eventually organometallics)\n",
    "# Functions detect_inorganic,remove_fragments, disconnect_metals, detect_inorganic again"
   ]
  },
  {
   "cell_type": "code",
   "execution_count": null,
   "metadata": {},
   "outputs": [],
   "source": [
    "# Pseudocode for filtering the inorganic records\n",
    "\n",
    "new_data = array of smiles\n",
    "records_organics = []\n",
    "records_inorganics = []\n",
    "\n",
    "for x in new_data:\n",
    "    convert_smiles_to_mol(x)\n",
    "    if detect_inorganic(x)==\"False\":\n",
    "        records_organics.append(x) #QUESTION: Can I just store mol-files in an array?\n",
    "    elif detect_inorganic(x)==\"True\":\n",
    "        records_inorganics.append(x)\n",
    "    else:\n",
    "        raise Exception(\"Something is wrong with:\" x)\n",
    "return records_organics, records_inorganics\n",
    "# no further processing will happen to `records_inorganics`\n",
    "# `records_organics` is passed on in the pipeline\n"
   ]
  },
  {
   "cell_type": "code",
   "execution_count": null,
   "metadata": {},
   "outputs": [],
   "source": [
    "# Flagging of Mixtures\n",
    "dataset['InchIBeforeMixturesFiltering'] = dataset['mol'].apply(convert_format.convert_mol_to_inchi)\n",
    "dataset['MolafterMixturesFiltering'] = dataset['mol'].apply(handle_fragments.remove_fragments)\n",
    "dataset['InchIAfterMixturesFiltering'] = dataset['MolafterMixturesFiltering'].apply(convert_format.convert_mol_to_inchi)\n",
    "dataset['noChanges']= dataset['InchIBeforeMixturesFiltering'] == dataset['InchIAfterMixturesFiltering']\n",
    "dataset.to_csv('/home/allen/dev/utility/data/test_dataset_bool_mixtures.csv', index = False)\n",
    "dataset.head()\n",
    "\n",
    "#TODO: Subset of Mixtures, deletion from main set"
   ]
  },
  {
   "cell_type": "code",
   "execution_count": null,
   "metadata": {},
   "outputs": [],
   "source": [
    "# Pseudocode for filtering the mixture records\n",
    "\n",
    "new_data = records_organics\n",
    "no_fragement_records = []\n",
    "contains_fragment_records = []\n",
    "\n",
    "#TODO: Write a helper function that returns a boolean value, when it finds a fragment (the InChI is changed by a removed fragment), a metals (disconnect_metals has been performed)\n",
    "# Functions could be named `detect_fragment` and  `detect_metals`\n",
    "# Or I can write a function that just checks if the execution of a function actually altered the InChI --> might be the simpler solution\n",
    "for x in new_data:\n",
    "    convert_smiles_to_mol(x)\n",
    "    if detect_fragment(x)==\"False\":\n",
    "        no_fragement_record.append(x)\n",
    "    elif detect_fragment(x)==\"True\":\n",
    "        contains_fragment_records.append(x)\n",
    "    else:\n",
    "        raise Exception(\"Something is wrong with\" x)\n",
    "return no_fragement_record,contains_fragment_records\n",
    "\n",
    "# [OPTIONAL] return the largest fragment of the record\n",
    "new_data = contains_fragment_records\n",
    "contains_largest_fragement = []\n",
    "for x in new_data:\n",
    "    choose_largest_fragment(x)\n",
    "    contains_largest_fragement.append(x)\n",
    "return contains_largest_fragement\n",
    "\n",
    "# OR remove known common fragments with the function `remove_fragments`\n",
    "\n",
    "# Code would be the same as obove\n",
    "# Have to write a helper function to continue the pipeline with his set, without mixing it up with the \"safe_dataset\"\n",
    "\n",
    "\n",
    "\n",
    "\n"
   ]
  },
  {
   "cell_type": "code",
   "execution_count": null,
   "metadata": {},
   "outputs": [],
   "source": [
    "# Pseudocode for filtering metals \n",
    "new_data = no_fragement_record\n",
    "metal_true = []\n",
    "metal_false = []\n",
    "\n",
    "for x in new_data:\n",
    "    convert_smiles_to_mol(x)\n",
    "    if detect_metals(x)==\"False\":\n",
    "        metal_false.append(x)\n",
    "    elif detect_metals(x)==\"True\":\n",
    "        metal_true.append(x)\n",
    "    else:\n",
    "        raise Exception(\"Something is wrong with\" x)\n",
    "return metal_true,metal_false"
   ]
  },
  {
   "cell_type": "markdown",
   "metadata": {},
   "source": [
    "### Structural Conversion and Cleaning\n",
    "\n",
    "Some drugs need to be transformed \"into their salt form to enhance how the drug disscolves (...) and (to) increase it's effectiveness. (https://www.drugs.com/article/pharmaceutical-salts.html (03/12/21)) Therefore it is common for chemical compound databases to contain records of salts. If possible it is recommended to delete the records containing salts completely, since, similar to in-organic compounds, \"most descriptor-generating software (can not process salts)\" (Fourches 2010 Chapter 2.2 ).While not beeing desirable, it is still an acceptable procedure to convert compounds into their neutral forms. But cases like this should be tagged, filtered and afterwards manually curated or compared to the actual neutral form of that compound. \n",
    "In case that we want to continue working on the converted records, we should perform the following steps:\n",
    "- check if records contain compounds with presence of metals --> difficult case, filter out (already done this - one step ahead)\n",
    "- removing the salts from the record\n",
    "- neutralize the record (normalization or basic standardization)\n",
    "- neutralize the charges\n",
    "- to be discussed: the adding/removing of hydrogens, both got pros and cons (pro addingH --> higher prediction performances / con addingH --> may introduce noise --> less reliable models)(removingH might introduce erros in calculating descriptors, due to it might not handle certain cases well)\n",
    "\n"
   ]
  },
  {
   "cell_type": "code",
   "execution_count": null,
   "metadata": {},
   "outputs": [],
   "source": [
    "# Structural coversion\n",
    "# Cleaning/removal of salts\n",
    "# Functions remove_salts\n",
    "# normalize_molecules\n",
    "# handle_charges\n",
    "# handle_hydrogens"
   ]
  },
  {
   "cell_type": "markdown",
   "metadata": {},
   "source": [
    "### Normalization of Specific Chemotypes\n",
    "\n",
    "More complex than just Normalization."
   ]
  },
  {
   "cell_type": "code",
   "execution_count": null,
   "metadata": {},
   "outputs": [],
   "source": [
    "# Normalization of specific chemotypes\n",
    "# normalize_molecules"
   ]
  },
  {
   "cell_type": "code",
   "execution_count": null,
   "metadata": {},
   "outputs": [],
   "source": [
    "# Treatment of tautomeric forms\n",
    "# handle_tautomers"
   ]
  },
  {
   "cell_type": "markdown",
   "metadata": {},
   "source": [
    "### Removal of duplicates"
   ]
  },
  {
   "cell_type": "code",
   "execution_count": null,
   "metadata": {},
   "outputs": [],
   "source": [
    "# Analysis/removal of duplicates"
   ]
  },
  {
   "cell_type": "code",
   "execution_count": null,
   "metadata": {},
   "outputs": [],
   "source": [
    "# Manual inspection"
   ]
  }
 ],
 "metadata": {
  "kernelspec": {
   "display_name": "Python 3",
   "language": "python",
   "name": "python3"
  },
  "language_info": {
   "codemirror_mode": {
    "name": "ipython",
    "version": 3
   },
   "file_extension": ".py",
   "mimetype": "text/x-python",
   "name": "python",
   "nbconvert_exporter": "python",
   "pygments_lexer": "ipython3",
   "version": "3.8.6"
  }
 },
 "nbformat": 4,
 "nbformat_minor": 2
}
